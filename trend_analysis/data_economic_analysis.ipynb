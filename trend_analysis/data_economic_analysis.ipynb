{
 "cells": [
  {
   "cell_type": "code",
   "execution_count": 1,
   "metadata": {},
   "outputs": [],
   "source": [
    "import pandas as pd\n",
    "import numpy as np\n",
    "import matplotlib.pyplot as plt\n",
    "import seaborn as sns\n",
    "\n",
    "import warnings \n",
    "warnings.filterwarnings('ignore')\n",
    "\n",
    "plt.rcParams['font.family'] = ['sans-serif']\n",
    "plt.rcParams['font.sans-serif'] = ['SimHei']"
   ]
  },
  {
   "cell_type": "markdown",
   "metadata": {},
   "source": [
    "# 数据分析背景"
   ]
  },
  {
   "cell_type": "markdown",
   "metadata": {},
   "source": [
    "## 消费分期"
   ]
  },
  {
   "cell_type": "markdown",
   "metadata": {},
   "source": [
    "基于场景的消费分期，资金是直接打给产品提供方，消费者是接触不到现金的，会排除大部分欺诈风险。其最大的风险是用户的还款能力，能不能持续把钱还上。消费分期公司一般为线上线下结合，需要销售人员寻找线下的消费场景。\n",
    "\n",
    "由于精确了解用户借款所购买的商品和服务，并可根据这些商品和服务的特点（包括用户消费的迫切程度、商品和服务的使用周期等）实施更加有效的风控措施、追偿手段，用户的还款意愿和违约成本与其所购买的商品、服务紧密相连，因此其实际借款利率应与消费内容存在一定的关联关系。\n",
    "\n",
    "现在市面上较多的分期有3c分期（手机、电动车）、汽车分期等。我们所知晓的有蚂蚁话呗、京东白条、捷信等。"
   ]
  },
  {
   "cell_type": "markdown",
   "metadata": {},
   "source": [
    "## 现金贷"
   ]
  },
  {
   "cell_type": "markdown",
   "metadata": {},
   "source": [
    "现金贷则是纯线上操作，在见不到收款方本人、不需知道真实消费意图是什么的情况下就会放款，而且款项会采取受托支付的方式打给收款方。因此，现金贷在风控上的要求更高，遇到的挑战和困难更多。不过相对于消费分期，现金贷规模可以做大，人力成本有高有低。\n",
    "\n",
    "现在做现金贷的公司很多很多，如玖富、51信用卡、360借条、借呗、捷信等等\n",
    "\n",
    "消费分期侧重于线下，现金贷类侧重于线上；从一定角度上来看，消费分期的用户可以转换为现金贷流量。"
   ]
  },
  {
   "cell_type": "markdown",
   "metadata": {},
   "source": [
    "# 数据介绍"
   ]
  },
  {
   "cell_type": "markdown",
   "metadata": {},
   "source": [
    "## applys 申请信息"
   ]
  },
  {
   "cell_type": "code",
   "execution_count": 2,
   "metadata": {},
   "outputs": [
    {
     "data": {
      "text/html": [
       "<div>\n",
       "<style scoped>\n",
       "    .dataframe tbody tr th:only-of-type {\n",
       "        vertical-align: middle;\n",
       "    }\n",
       "\n",
       "    .dataframe tbody tr th {\n",
       "        vertical-align: top;\n",
       "    }\n",
       "\n",
       "    .dataframe thead th {\n",
       "        text-align: right;\n",
       "    }\n",
       "</style>\n",
       "<table border=\"1\" class=\"dataframe\">\n",
       "  <thead>\n",
       "    <tr style=\"text-align: right;\">\n",
       "      <th></th>\n",
       "      <th>apply_id</th>\n",
       "      <th>customer_id</th>\n",
       "      <th>channel_id</th>\n",
       "      <th>goods_id</th>\n",
       "      <th>consume_goods_name</th>\n",
       "      <th>consume_goods_type</th>\n",
       "      <th>seller_id</th>\n",
       "      <th>seller_city</th>\n",
       "      <th>seller_risk_level</th>\n",
       "      <th>apply_amount</th>\n",
       "      <th>apply_time</th>\n",
       "      <th>apply_periods</th>\n",
       "      <th>recommend_code</th>\n",
       "      <th>clerk_id</th>\n",
       "      <th>clerk_submit_time</th>\n",
       "      <th>consume_goods_price</th>\n",
       "      <th>consume_goods_advance</th>\n",
       "      <th>consume_goods_remark</th>\n",
       "      <th>user_risk_level</th>\n",
       "    </tr>\n",
       "  </thead>\n",
       "  <tbody>\n",
       "    <tr>\n",
       "      <th>0</th>\n",
       "      <td>228679091</td>\n",
       "      <td>528424289</td>\n",
       "      <td>56466223</td>\n",
       "      <td>28562248</td>\n",
       "      <td>苹果7plus128g金色（首付2700）</td>\n",
       "      <td>0</td>\n",
       "      <td>27053709</td>\n",
       "      <td>1465.0</td>\n",
       "      <td>0.0</td>\n",
       "      <td>4100</td>\n",
       "      <td>2017-11-22 00:00:00</td>\n",
       "      <td>15</td>\n",
       "      <td>0000</td>\n",
       "      <td>13654.0</td>\n",
       "      <td>NaN</td>\n",
       "      <td>NaN</td>\n",
       "      <td>NaN</td>\n",
       "      <td>NaN</td>\n",
       "      <td>NaN</td>\n",
       "    </tr>\n",
       "    <tr>\n",
       "      <th>1</th>\n",
       "      <td>229442713</td>\n",
       "      <td>529099188</td>\n",
       "      <td>1080747328</td>\n",
       "      <td>0</td>\n",
       "      <td>NaN</td>\n",
       "      <td>3</td>\n",
       "      <td>0</td>\n",
       "      <td>NaN</td>\n",
       "      <td>NaN</td>\n",
       "      <td>700</td>\n",
       "      <td>2017-10-01 00:00:14</td>\n",
       "      <td>1</td>\n",
       "      <td>NaN</td>\n",
       "      <td>NaN</td>\n",
       "      <td>NaN</td>\n",
       "      <td>NaN</td>\n",
       "      <td>NaN</td>\n",
       "      <td>NaN</td>\n",
       "      <td>NaN</td>\n",
       "    </tr>\n",
       "    <tr>\n",
       "      <th>2</th>\n",
       "      <td>229442737</td>\n",
       "      <td>529100126</td>\n",
       "      <td>1080747328</td>\n",
       "      <td>0</td>\n",
       "      <td>NaN</td>\n",
       "      <td>3</td>\n",
       "      <td>0</td>\n",
       "      <td>NaN</td>\n",
       "      <td>NaN</td>\n",
       "      <td>2000</td>\n",
       "      <td>2017-10-01 00:00:47</td>\n",
       "      <td>1</td>\n",
       "      <td>NaN</td>\n",
       "      <td>NaN</td>\n",
       "      <td>NaN</td>\n",
       "      <td>NaN</td>\n",
       "      <td>NaN</td>\n",
       "      <td>NaN</td>\n",
       "      <td>NaN</td>\n",
       "    </tr>\n",
       "    <tr>\n",
       "      <th>3</th>\n",
       "      <td>229442740</td>\n",
       "      <td>528963792</td>\n",
       "      <td>2114879934</td>\n",
       "      <td>0</td>\n",
       "      <td>NaN</td>\n",
       "      <td>3</td>\n",
       "      <td>0</td>\n",
       "      <td>NaN</td>\n",
       "      <td>NaN</td>\n",
       "      <td>2000</td>\n",
       "      <td>2017-10-01 00:00:48</td>\n",
       "      <td>1</td>\n",
       "      <td>NaN</td>\n",
       "      <td>NaN</td>\n",
       "      <td>NaN</td>\n",
       "      <td>NaN</td>\n",
       "      <td>NaN</td>\n",
       "      <td>NaN</td>\n",
       "      <td>NaN</td>\n",
       "    </tr>\n",
       "    <tr>\n",
       "      <th>4</th>\n",
       "      <td>229442745</td>\n",
       "      <td>529101303</td>\n",
       "      <td>1080747328</td>\n",
       "      <td>0</td>\n",
       "      <td>NaN</td>\n",
       "      <td>3</td>\n",
       "      <td>0</td>\n",
       "      <td>NaN</td>\n",
       "      <td>NaN</td>\n",
       "      <td>800</td>\n",
       "      <td>2017-10-01 00:00:57</td>\n",
       "      <td>1</td>\n",
       "      <td>NaN</td>\n",
       "      <td>NaN</td>\n",
       "      <td>NaN</td>\n",
       "      <td>NaN</td>\n",
       "      <td>NaN</td>\n",
       "      <td>NaN</td>\n",
       "      <td>NaN</td>\n",
       "    </tr>\n",
       "  </tbody>\n",
       "</table>\n",
       "</div>"
      ],
      "text/plain": [
       "    apply_id  customer_id  channel_id  goods_id     consume_goods_name  \\\n",
       "0  228679091    528424289    56466223  28562248  苹果7plus128g金色（首付2700）   \n",
       "1  229442713    529099188  1080747328         0                    NaN   \n",
       "2  229442737    529100126  1080747328         0                    NaN   \n",
       "3  229442740    528963792  2114879934         0                    NaN   \n",
       "4  229442745    529101303  1080747328         0                    NaN   \n",
       "\n",
       "   consume_goods_type  seller_id  seller_city  seller_risk_level  \\\n",
       "0                   0   27053709       1465.0                0.0   \n",
       "1                   3          0          NaN                NaN   \n",
       "2                   3          0          NaN                NaN   \n",
       "3                   3          0          NaN                NaN   \n",
       "4                   3          0          NaN                NaN   \n",
       "\n",
       "   apply_amount           apply_time  apply_periods recommend_code  clerk_id  \\\n",
       "0          4100  2017-11-22 00:00:00             15           0000   13654.0   \n",
       "1           700  2017-10-01 00:00:14              1            NaN       NaN   \n",
       "2          2000  2017-10-01 00:00:47              1            NaN       NaN   \n",
       "3          2000  2017-10-01 00:00:48              1            NaN       NaN   \n",
       "4           800  2017-10-01 00:00:57              1            NaN       NaN   \n",
       "\n",
       "   clerk_submit_time  consume_goods_price  consume_goods_advance  \\\n",
       "0                NaN                  NaN                    NaN   \n",
       "1                NaN                  NaN                    NaN   \n",
       "2                NaN                  NaN                    NaN   \n",
       "3                NaN                  NaN                    NaN   \n",
       "4                NaN                  NaN                    NaN   \n",
       "\n",
       "  consume_goods_remark user_risk_level  \n",
       "0                  NaN             NaN  \n",
       "1                  NaN             NaN  \n",
       "2                  NaN             NaN  \n",
       "3                  NaN             NaN  \n",
       "4                  NaN             NaN  "
      ]
     },
     "execution_count": 2,
     "metadata": {},
     "output_type": "execute_result"
    }
   ],
   "source": [
    "data_applys_org = pd.read_csv(r'./data/applys.tsv', sep='\\t')\n",
    "data_applys_org.head()"
   ]
  },
  {
   "cell_type": "code",
   "execution_count": 3,
   "metadata": {},
   "outputs": [
    {
     "data": {
      "text/plain": [
       "(355247, 19)"
      ]
     },
     "execution_count": 3,
     "metadata": {},
     "output_type": "execute_result"
    }
   ],
   "source": [
    "data_applys_org.shape"
   ]
  },
  {
   "cell_type": "code",
   "execution_count": 4,
   "metadata": {},
   "outputs": [
    {
     "data": {
      "text/plain": [
       "Index(['apply_id', 'customer_id', 'channel_id', 'goods_id',\n",
       "       'consume_goods_name', 'consume_goods_type', 'seller_id', 'seller_city',\n",
       "       'seller_risk_level', 'apply_amount', 'apply_time', 'apply_periods',\n",
       "       'recommend_code', 'clerk_id', 'clerk_submit_time',\n",
       "       'consume_goods_price', 'consume_goods_advance', 'consume_goods_remark',\n",
       "       'user_risk_level'],\n",
       "      dtype='object')"
      ]
     },
     "execution_count": 4,
     "metadata": {},
     "output_type": "execute_result"
    }
   ],
   "source": [
    "data_applys_org.columns"
   ]
  },
  {
   "cell_type": "markdown",
   "metadata": {},
   "source": [
    "applys.csv  申请信息\n",
    "\n",
    "    `apply_id`                '申请Id',\n",
    "    `customer_id`              '客户Id',\n",
    "    `channel_id`              '渠道编号',\n",
    "    `goods_id`                '商品Id',\n",
    "    `consume_goods_name`         '商品名称',\n",
    "    `consume_goods_type`         '商品类别',\n",
    "    `seller_id`               '商铺id',\n",
    "    `seller_level`             '商铺等级',\n",
    "    `seller_city`              '商铺所在市',\n",
    "    `seller_risk_level`          '商铺风险等级',\n",
    "    `apply_amount`             '申请额度',\n",
    "    `apply_periods`             '申请分期数',\n",
    "    `recommend_code`            '推荐码',\n",
    "    `clerk_id`                '办单员id',\n",
    "    `clerk_submit_time`          '办单员提交时间',\n",
    "    `apply_time` datetime        '申请时间',\n",
    "    `consume_goods_price`        '商品金额',\n",
    "    `consume_goods_advance`       '商品首付',\n",
    "    `consume_goods_remark`        '商品描述',\n",
    "    `user_risk_level`           '用户风险等级',\n",
    "\n",
    "注；consume_goods_type 业务类型， 0: 消费贷， 1：现金贷  其他：小额贷"
   ]
  },
  {
   "cell_type": "markdown",
   "metadata": {},
   "source": [
    "## users 用户信息"
   ]
  },
  {
   "cell_type": "code",
   "execution_count": 5,
   "metadata": {},
   "outputs": [
    {
     "data": {
      "text/html": [
       "<div>\n",
       "<style scoped>\n",
       "    .dataframe tbody tr th:only-of-type {\n",
       "        vertical-align: middle;\n",
       "    }\n",
       "\n",
       "    .dataframe tbody tr th {\n",
       "        vertical-align: top;\n",
       "    }\n",
       "\n",
       "    .dataframe thead th {\n",
       "        text-align: right;\n",
       "    }\n",
       "</style>\n",
       "<table border=\"1\" class=\"dataframe\">\n",
       "  <thead>\n",
       "    <tr style=\"text-align: right;\">\n",
       "      <th></th>\n",
       "      <th>apply_id</th>\n",
       "      <th>customer_id</th>\n",
       "      <th>name</th>\n",
       "      <th>phone</th>\n",
       "      <th>grant_operator_phone</th>\n",
       "      <th>idcard</th>\n",
       "      <th>customer_type</th>\n",
       "      <th>is_real_name</th>\n",
       "      <th>month_income</th>\n",
       "      <th>loan_intent</th>\n",
       "      <th>...</th>\n",
       "      <th>locate_longitude</th>\n",
       "      <th>authorized_contacts</th>\n",
       "      <th>authorized_fund</th>\n",
       "      <th>authorized_jd</th>\n",
       "      <th>authorized_operator</th>\n",
       "      <th>authorized_qq</th>\n",
       "      <th>authorized_sms</th>\n",
       "      <th>authorized_social_security</th>\n",
       "      <th>authorized_taobao</th>\n",
       "      <th>authorized_xuexin</th>\n",
       "    </tr>\n",
       "  </thead>\n",
       "  <tbody>\n",
       "    <tr>\n",
       "      <th>0</th>\n",
       "      <td>228679091</td>\n",
       "      <td>528424289</td>\n",
       "      <td>刘*</td>\n",
       "      <td>151****1853</td>\n",
       "      <td>151****1853</td>\n",
       "      <td>4*****1990****2238</td>\n",
       "      <td>2</td>\n",
       "      <td>0</td>\n",
       "      <td>0</td>\n",
       "      <td>NaN</td>\n",
       "      <td>...</td>\n",
       "      <td>0.000</td>\n",
       "      <td>1</td>\n",
       "      <td>0</td>\n",
       "      <td>0</td>\n",
       "      <td>1</td>\n",
       "      <td>0</td>\n",
       "      <td>1</td>\n",
       "      <td>0</td>\n",
       "      <td>0</td>\n",
       "      <td>0</td>\n",
       "    </tr>\n",
       "    <tr>\n",
       "      <th>1</th>\n",
       "      <td>229442713</td>\n",
       "      <td>529099188</td>\n",
       "      <td>莫*</td>\n",
       "      <td>153****4251</td>\n",
       "      <td>153****4251</td>\n",
       "      <td>4*****1995****5717</td>\n",
       "      <td>2</td>\n",
       "      <td>0</td>\n",
       "      <td>0</td>\n",
       "      <td>NaN</td>\n",
       "      <td>...</td>\n",
       "      <td>113.611</td>\n",
       "      <td>0</td>\n",
       "      <td>0</td>\n",
       "      <td>0</td>\n",
       "      <td>1</td>\n",
       "      <td>0</td>\n",
       "      <td>1</td>\n",
       "      <td>0</td>\n",
       "      <td>0</td>\n",
       "      <td>0</td>\n",
       "    </tr>\n",
       "    <tr>\n",
       "      <th>2</th>\n",
       "      <td>229442737</td>\n",
       "      <td>529100126</td>\n",
       "      <td>杨*</td>\n",
       "      <td>132****2874</td>\n",
       "      <td>132****2874</td>\n",
       "      <td>5*****1999****0915</td>\n",
       "      <td>2</td>\n",
       "      <td>0</td>\n",
       "      <td>0</td>\n",
       "      <td>NaN</td>\n",
       "      <td>...</td>\n",
       "      <td>104.220</td>\n",
       "      <td>0</td>\n",
       "      <td>0</td>\n",
       "      <td>0</td>\n",
       "      <td>1</td>\n",
       "      <td>0</td>\n",
       "      <td>1</td>\n",
       "      <td>0</td>\n",
       "      <td>0</td>\n",
       "      <td>0</td>\n",
       "    </tr>\n",
       "    <tr>\n",
       "      <th>3</th>\n",
       "      <td>229442740</td>\n",
       "      <td>528963792</td>\n",
       "      <td>徐*</td>\n",
       "      <td>158****4115</td>\n",
       "      <td>158****4115</td>\n",
       "      <td>5*****1994****8478</td>\n",
       "      <td>2</td>\n",
       "      <td>0</td>\n",
       "      <td>0</td>\n",
       "      <td>NaN</td>\n",
       "      <td>...</td>\n",
       "      <td>105.566</td>\n",
       "      <td>0</td>\n",
       "      <td>0</td>\n",
       "      <td>0</td>\n",
       "      <td>1</td>\n",
       "      <td>0</td>\n",
       "      <td>1</td>\n",
       "      <td>0</td>\n",
       "      <td>0</td>\n",
       "      <td>0</td>\n",
       "    </tr>\n",
       "    <tr>\n",
       "      <th>4</th>\n",
       "      <td>229442745</td>\n",
       "      <td>529101303</td>\n",
       "      <td>吴*</td>\n",
       "      <td>134****7272</td>\n",
       "      <td>134****7272</td>\n",
       "      <td>4*****1995****5619</td>\n",
       "      <td>2</td>\n",
       "      <td>0</td>\n",
       "      <td>0</td>\n",
       "      <td>NaN</td>\n",
       "      <td>...</td>\n",
       "      <td>114.384</td>\n",
       "      <td>0</td>\n",
       "      <td>0</td>\n",
       "      <td>1***</td>\n",
       "      <td>1</td>\n",
       "      <td>0</td>\n",
       "      <td>1</td>\n",
       "      <td>0</td>\n",
       "      <td>0</td>\n",
       "      <td>1***</td>\n",
       "    </tr>\n",
       "  </tbody>\n",
       "</table>\n",
       "<p>5 rows × 28 columns</p>\n",
       "</div>"
      ],
      "text/plain": [
       "    apply_id  customer_id name        phone grant_operator_phone  \\\n",
       "0  228679091    528424289   刘*  151****1853          151****1853   \n",
       "1  229442713    529099188   莫*  153****4251          153****4251   \n",
       "2  229442737    529100126   杨*  132****2874          132****2874   \n",
       "3  229442740    528963792   徐*  158****4115          158****4115   \n",
       "4  229442745    529101303   吴*  134****7272          134****7272   \n",
       "\n",
       "               idcard  customer_type  is_real_name  month_income loan_intent  \\\n",
       "0  4*****1990****2238              2             0             0         NaN   \n",
       "1  4*****1995****5717              2             0             0         NaN   \n",
       "2  5*****1999****0915              2             0             0         NaN   \n",
       "3  5*****1994****8478              2             0             0         NaN   \n",
       "4  4*****1995****5619              2             0             0         NaN   \n",
       "\n",
       "         ...         locate_longitude authorized_contacts authorized_fund  \\\n",
       "0        ...                    0.000                   1               0   \n",
       "1        ...                  113.611                   0               0   \n",
       "2        ...                  104.220                   0               0   \n",
       "3        ...                  105.566                   0               0   \n",
       "4        ...                  114.384                   0               0   \n",
       "\n",
       "  authorized_jd authorized_operator authorized_qq authorized_sms  \\\n",
       "0             0                   1             0              1   \n",
       "1             0                   1             0              1   \n",
       "2             0                   1             0              1   \n",
       "3             0                   1             0              1   \n",
       "4          1***                   1             0              1   \n",
       "\n",
       "   authorized_social_security  authorized_taobao  authorized_xuexin  \n",
       "0                           0                  0                  0  \n",
       "1                           0                  0                  0  \n",
       "2                           0                  0                  0  \n",
       "3                           0                  0                  0  \n",
       "4                           0                  0               1***  \n",
       "\n",
       "[5 rows x 28 columns]"
      ]
     },
     "execution_count": 5,
     "metadata": {},
     "output_type": "execute_result"
    }
   ],
   "source": [
    "data_users_org = pd.read_csv('./data/users.tsv', sep='\\t')\n",
    "data_users_org.head()"
   ]
  },
  {
   "cell_type": "code",
   "execution_count": 6,
   "metadata": {},
   "outputs": [
    {
     "data": {
      "text/plain": [
       "(364689, 28)"
      ]
     },
     "execution_count": 6,
     "metadata": {},
     "output_type": "execute_result"
    }
   ],
   "source": [
    "data_users_org.shape"
   ]
  },
  {
   "cell_type": "code",
   "execution_count": 7,
   "metadata": {},
   "outputs": [
    {
     "data": {
      "text/plain": [
       "Index(['apply_id', 'customer_id', 'name', 'phone', 'grant_operator_phone',\n",
       "       'idcard', 'customer_type', 'is_real_name', 'month_income',\n",
       "       'loan_intent', 'company_city', 'autograph_url', 'idcard_head_image_url',\n",
       "       'idcard_tail_image_url', 'idcard_handheld_image_url', 'other_image_url',\n",
       "       'job', 'locate_latitude', 'locate_longitude', 'authorized_contacts',\n",
       "       'authorized_fund', 'authorized_jd', 'authorized_operator',\n",
       "       'authorized_qq', 'authorized_sms', 'authorized_social_security',\n",
       "       'authorized_taobao', 'authorized_xuexin'],\n",
       "      dtype='object')"
      ]
     },
     "execution_count": 7,
     "metadata": {},
     "output_type": "execute_result"
    }
   ],
   "source": [
    "data_users_org.columns"
   ]
  },
  {
   "cell_type": "markdown",
   "metadata": {},
   "source": [
    "users.csv  用户信息\n",
    "\n",
    "\n",
    "    `customer_id`   '用户ID',\n",
    "    `apply_id`   '申请ID',\n",
    "    `name`    '客户姓名',\n",
    "    `phone`    '手机号',\n",
    "    `grant_operator_phone`    '授权运营商手机号',\n",
    "    `idcard`   '身份证号',\n",
    "    `customer_type`   '客户类别',\n",
    "    `is_real_name`  ,\n",
    "    `month_income`   '月收入',\n",
    "    `loan_intent`    '借款你用途',\n",
    "    `company_city`    '公司所在市',\n",
    "    `autograph_url`  ,\n",
    "    `idcard_head_image_url`    '身份证正面照',\n",
    "    `idcard_tail_image_url`    '身份证反面照',\n",
    "    `idcard_handheld_image_url`    '手持身份证',\n",
    "    `other_image_url` '其他照片',\n",
    "    `job`    '职业',\n",
    "    `locate_longitude`   '定位经度',\n",
    "    `locate_latitude`   '定位纬度',\n",
    "    `authorized_taobao`    '是否授权淘宝（0：未授权，其他值：授权的用户名）',\n",
    "    `authorized_jd`    '是否授权京东（0：未授权，其他值：授权的用户名）',\n",
    "    `authorized_operator`   '是否授权运营商（0：未授权， 1：授权）',\n",
    "    `authorized_qq`   '是否授权运qq（0：未授权， 1：授权）',\n",
    "    `authorized_contacts`   '是否授权通讯录（0：未授权， 1：授权）',\n",
    "    `authorized_xuexin`    '是否授权学信（0：未授权， 其他值：授权的用户名）',\n",
    "    `authorized_social_security`    '是否授权社保（0：未授权， 其他值：授权的用户名）',\n",
    "    `authorized_sms`   '是否授权短信（0：未授权， 1：授权）',\n",
    "    `authorized_fund`   '是否授权公积金（0：未授权，其他值：授权的用户名）'\n",
    "\n",
    "customer_type字典\n",
    "{\n",
    "    0: '',\n",
    "    1: '学生',\n",
    "    2: '工薪',\n",
    "    3: '自雇',\n",
    "    4: '自由职业者'\n",
    "}"
   ]
  },
  {
   "cell_type": "markdown",
   "metadata": {},
   "source": [
    "## audits 审核信息"
   ]
  },
  {
   "cell_type": "code",
   "execution_count": 8,
   "metadata": {},
   "outputs": [
    {
     "data": {
      "text/html": [
       "<div>\n",
       "<style scoped>\n",
       "    .dataframe tbody tr th:only-of-type {\n",
       "        vertical-align: middle;\n",
       "    }\n",
       "\n",
       "    .dataframe tbody tr th {\n",
       "        vertical-align: top;\n",
       "    }\n",
       "\n",
       "    .dataframe thead th {\n",
       "        text-align: right;\n",
       "    }\n",
       "</style>\n",
       "<table border=\"1\" class=\"dataframe\">\n",
       "  <thead>\n",
       "    <tr style=\"text-align: right;\">\n",
       "      <th></th>\n",
       "      <th>apply_id</th>\n",
       "      <th>customer_id</th>\n",
       "      <th>audit_status</th>\n",
       "      <th>channel_push_status</th>\n",
       "      <th>insert_time</th>\n",
       "      <th>social_security</th>\n",
       "      <th>credit_report</th>\n",
       "      <th>operator</th>\n",
       "      <th>sms</th>\n",
       "      <th>memo</th>\n",
       "      <th>...</th>\n",
       "      <th>channel_auditor_memo</th>\n",
       "      <th>channel_auditor_start_time</th>\n",
       "      <th>channel_auditor_finish_time</th>\n",
       "      <th>clerk_update_msg</th>\n",
       "      <th>clerk_update_status</th>\n",
       "      <th>clerk_update_time</th>\n",
       "      <th>manager_id</th>\n",
       "      <th>manager_update_time</th>\n",
       "      <th>manager_status</th>\n",
       "      <th>manager_memo</th>\n",
       "    </tr>\n",
       "  </thead>\n",
       "  <tbody>\n",
       "    <tr>\n",
       "      <th>0</th>\n",
       "      <td>229442713</td>\n",
       "      <td>529099188</td>\n",
       "      <td>1</td>\n",
       "      <td>0</td>\n",
       "      <td>2017-10-01 00:00:15</td>\n",
       "      <td>NaN</td>\n",
       "      <td>NaN</td>\n",
       "      <td>NaN</td>\n",
       "      <td>NaN</td>\n",
       "      <td>NaN</td>\n",
       "      <td>...</td>\n",
       "      <td>NaN</td>\n",
       "      <td>NaN</td>\n",
       "      <td>NaN</td>\n",
       "      <td>NaN</td>\n",
       "      <td>0</td>\n",
       "      <td>NaN</td>\n",
       "      <td>NaN</td>\n",
       "      <td>NaN</td>\n",
       "      <td>0</td>\n",
       "      <td>NaN</td>\n",
       "    </tr>\n",
       "    <tr>\n",
       "      <th>1</th>\n",
       "      <td>229442737</td>\n",
       "      <td>529100126</td>\n",
       "      <td>1</td>\n",
       "      <td>0</td>\n",
       "      <td>2017-10-01 00:00:47</td>\n",
       "      <td>NaN</td>\n",
       "      <td>NaN</td>\n",
       "      <td>NaN</td>\n",
       "      <td>NaN</td>\n",
       "      <td>NaN</td>\n",
       "      <td>...</td>\n",
       "      <td>NaN</td>\n",
       "      <td>NaN</td>\n",
       "      <td>NaN</td>\n",
       "      <td>NaN</td>\n",
       "      <td>0</td>\n",
       "      <td>NaN</td>\n",
       "      <td>NaN</td>\n",
       "      <td>NaN</td>\n",
       "      <td>0</td>\n",
       "      <td>NaN</td>\n",
       "    </tr>\n",
       "    <tr>\n",
       "      <th>2</th>\n",
       "      <td>229442740</td>\n",
       "      <td>528963792</td>\n",
       "      <td>7</td>\n",
       "      <td>0</td>\n",
       "      <td>2017-10-01 00:00:49</td>\n",
       "      <td>NaN</td>\n",
       "      <td>NaN</td>\n",
       "      <td>NaN</td>\n",
       "      <td>NaN</td>\n",
       "      <td>{\\cancel\\\": {\\\"msg\\\": \\\"\\\", \\\"result\\\": []}, \\...</td>\n",
       "      <td>...</td>\n",
       "      <td>NaN</td>\n",
       "      <td>NaN</td>\n",
       "      <td>NaN</td>\n",
       "      <td>NaN</td>\n",
       "      <td>0</td>\n",
       "      <td>NaN</td>\n",
       "      <td>NaN</td>\n",
       "      <td>NaN</td>\n",
       "      <td>0</td>\n",
       "      <td>NaN</td>\n",
       "    </tr>\n",
       "    <tr>\n",
       "      <th>3</th>\n",
       "      <td>229442745</td>\n",
       "      <td>529101303</td>\n",
       "      <td>1</td>\n",
       "      <td>0</td>\n",
       "      <td>2017-10-01 00:00:58</td>\n",
       "      <td>NaN</td>\n",
       "      <td>NaN</td>\n",
       "      <td>NaN</td>\n",
       "      <td>NaN</td>\n",
       "      <td>NaN</td>\n",
       "      <td>...</td>\n",
       "      <td>NaN</td>\n",
       "      <td>NaN</td>\n",
       "      <td>NaN</td>\n",
       "      <td>NaN</td>\n",
       "      <td>0</td>\n",
       "      <td>NaN</td>\n",
       "      <td>NaN</td>\n",
       "      <td>NaN</td>\n",
       "      <td>0</td>\n",
       "      <td>NaN</td>\n",
       "    </tr>\n",
       "    <tr>\n",
       "      <th>4</th>\n",
       "      <td>229442754</td>\n",
       "      <td>529097569</td>\n",
       "      <td>1</td>\n",
       "      <td>0</td>\n",
       "      <td>2017-10-01 00:01:13</td>\n",
       "      <td>NaN</td>\n",
       "      <td>NaN</td>\n",
       "      <td>NaN</td>\n",
       "      <td>NaN</td>\n",
       "      <td>NaN</td>\n",
       "      <td>...</td>\n",
       "      <td>NaN</td>\n",
       "      <td>NaN</td>\n",
       "      <td>NaN</td>\n",
       "      <td>NaN</td>\n",
       "      <td>0</td>\n",
       "      <td>NaN</td>\n",
       "      <td>NaN</td>\n",
       "      <td>NaN</td>\n",
       "      <td>0</td>\n",
       "      <td>NaN</td>\n",
       "    </tr>\n",
       "  </tbody>\n",
       "</table>\n",
       "<p>5 rows × 34 columns</p>\n",
       "</div>"
      ],
      "text/plain": [
       "    apply_id  customer_id  audit_status  channel_push_status  \\\n",
       "0  229442713    529099188             1                    0   \n",
       "1  229442737    529100126             1                    0   \n",
       "2  229442740    528963792             7                    0   \n",
       "3  229442745    529101303             1                    0   \n",
       "4  229442754    529097569             1                    0   \n",
       "\n",
       "           insert_time  social_security  credit_report  operator  sms  \\\n",
       "0  2017-10-01 00:00:15              NaN            NaN       NaN  NaN   \n",
       "1  2017-10-01 00:00:47              NaN            NaN       NaN  NaN   \n",
       "2  2017-10-01 00:00:49              NaN            NaN       NaN  NaN   \n",
       "3  2017-10-01 00:00:58              NaN            NaN       NaN  NaN   \n",
       "4  2017-10-01 00:01:13              NaN            NaN       NaN  NaN   \n",
       "\n",
       "                                                memo     ...       \\\n",
       "0                                                NaN     ...        \n",
       "1                                                NaN     ...        \n",
       "2  {\\cancel\\\": {\\\"msg\\\": \\\"\\\", \\\"result\\\": []}, \\...     ...        \n",
       "3                                                NaN     ...        \n",
       "4                                                NaN     ...        \n",
       "\n",
       "   channel_auditor_memo  channel_auditor_start_time  \\\n",
       "0                   NaN                         NaN   \n",
       "1                   NaN                         NaN   \n",
       "2                   NaN                         NaN   \n",
       "3                   NaN                         NaN   \n",
       "4                   NaN                         NaN   \n",
       "\n",
       "   channel_auditor_finish_time clerk_update_msg clerk_update_status  \\\n",
       "0                          NaN              NaN                   0   \n",
       "1                          NaN              NaN                   0   \n",
       "2                          NaN              NaN                   0   \n",
       "3                          NaN              NaN                   0   \n",
       "4                          NaN              NaN                   0   \n",
       "\n",
       "  clerk_update_time  manager_id  manager_update_time manager_status  \\\n",
       "0               NaN         NaN                  NaN              0   \n",
       "1               NaN         NaN                  NaN              0   \n",
       "2               NaN         NaN                  NaN              0   \n",
       "3               NaN         NaN                  NaN              0   \n",
       "4               NaN         NaN                  NaN              0   \n",
       "\n",
       "  manager_memo  \n",
       "0          NaN  \n",
       "1          NaN  \n",
       "2          NaN  \n",
       "3          NaN  \n",
       "4          NaN  \n",
       "\n",
       "[5 rows x 34 columns]"
      ]
     },
     "execution_count": 8,
     "metadata": {},
     "output_type": "execute_result"
    }
   ],
   "source": [
    "data_audits_org = pd.read_csv(r'./data/audits.tsv', sep='\\t')\n",
    "data_audits_org.head()"
   ]
  },
  {
   "cell_type": "code",
   "execution_count": 9,
   "metadata": {},
   "outputs": [
    {
     "data": {
      "text/plain": [
       "Index(['apply_id', 'customer_id', 'audit_status', 'channel_push_status',\n",
       "       'insert_time', 'social_security', 'credit_report', 'operator', 'sms',\n",
       "       'memo', 'approve_amount', 'approve_periods', 'auditor_id',\n",
       "       'audit_start_time', 'audit_finish_time', 'decision', 'tele_auditor_id',\n",
       "       'tele_audit_result', 'tele_decision', 'tele_memo', 'tele_start_date',\n",
       "       'tele_finish_date', 'channel_auditor_id', 'channel_auditor_decision',\n",
       "       'channel_auditor_memo', 'channel_auditor_start_time',\n",
       "       'channel_auditor_finish_time', 'clerk_update_msg',\n",
       "       'clerk_update_status', 'clerk_update_time', 'manager_id',\n",
       "       'manager_update_time', 'manager_status', 'manager_memo'],\n",
       "      dtype='object')"
      ]
     },
     "execution_count": 9,
     "metadata": {},
     "output_type": "execute_result"
    }
   ],
   "source": [
    "data_audits_org.columns"
   ]
  },
  {
   "cell_type": "code",
   "execution_count": 10,
   "metadata": {},
   "outputs": [
    {
     "data": {
      "text/plain": [
       "(364692, 34)"
      ]
     },
     "execution_count": 10,
     "metadata": {},
     "output_type": "execute_result"
    }
   ],
   "source": [
    "data_audits_org.shape"
   ]
  },
  {
   "cell_type": "markdown",
   "metadata": {},
   "source": [
    "audits.csv  审核信息\n",
    "\n",
    "    `apply_id`   '申请Id',\n",
    "    `customer_id`   '用户id',\n",
    "    `audit_status`   '审核状态',\n",
    "    `insert_time`   '记录生成时间',\n",
    "    `social_security`    '社保意见',\n",
    "    `withdrawals`    '提现意见',\n",
    "    `credit_report`    '征信意见',\n",
    "    `operator`    '运营商意见',\n",
    "    `credit_card_email`    '信用卡意见',\n",
    "    `sms`    '短信意见',\n",
    "    `memo` text  COMMENT '备注',\n",
    "    `approve_amount`   '审批额度',\n",
    "    `approve_periods`   '审批期数',\n",
    "    `auditor_id`   '初审人编号',\n",
    "    `audit_start_time`   '审核开始时间',\n",
    "    `audit_finish_time`   '审核结束时间',\n",
    "    `decision`    '初审结论',\n",
    "    `tele_auditor_id`   '电核人编号',\n",
    "    `tele_audit_result`   ,\n",
    "    `tele_decision`    '电核结论',\n",
    "    `tele_memo`  '电核备注',\n",
    "    `tele_start_date`   '电核开始时间',\n",
    "    `tele_finish_date`   '电核结束时间',\n",
    "    `channel_auditor_id`   '渠道审核人编号',\n",
    "    `channel_auditor_start_time`   '渠道审核开始时间',\n",
    "    `channel_auditor_finish_time`   '渠道审核结束时间',\n",
    "    `channel_auditor_decision`   '渠道人员操作状态描述，1 通过、2 拒绝、3 取消、4 驳回',\n",
    "    `channel_auditor_memo`  '渠道操作备注',\n",
    "    `clerk_update_status`   '办单员处理状态, 0 表示默认, 1表示拒绝, 2表示取消',\n",
    "    `clerk_update_time`   '办单员操作更新时间',\n",
    "    `clerk_update_msg`    '办单员处理状态说明',\n",
    "    `manager_id`   '运营经理或小组长编号',\n",
    "    `manager_name`    '运营、小组长姓名',\n",
    "    `manager_update_time`   '运营操作时间',\n",
    "    `manager_status`   '操作状态描述，1 通过、2 拒绝、3 取消、4 驳回',\n",
    "    `manager_memo`  '运营操作备注',\n",
    "    \n",
    "    \n",
    "    AUDIT_STATUS = {\n",
    "    0: '待审核',\n",
    "    1: '拒绝',  \n",
    "    6: '拒绝',  # stage2拒绝\n",
    "    7: '通过',  \n",
    "    10: '取消',  \n",
    "    13: '电核拒绝',  # stage3 拒绝\n",
    "    14: '电核取消',  # stage3 取消\n",
    "    15: '电核通过',  # stage3 通过\n",
    "    32: '渠道担保通过'\n",
    "}"
   ]
  },
  {
   "cell_type": "markdown",
   "metadata": {},
   "source": [
    "## results 审核结果信息"
   ]
  },
  {
   "cell_type": "code",
   "execution_count": 11,
   "metadata": {},
   "outputs": [
    {
     "data": {
      "text/html": [
       "<div>\n",
       "<style scoped>\n",
       "    .dataframe tbody tr th:only-of-type {\n",
       "        vertical-align: middle;\n",
       "    }\n",
       "\n",
       "    .dataframe tbody tr th {\n",
       "        vertical-align: top;\n",
       "    }\n",
       "\n",
       "    .dataframe thead th {\n",
       "        text-align: right;\n",
       "    }\n",
       "</style>\n",
       "<table border=\"1\" class=\"dataframe\">\n",
       "  <thead>\n",
       "    <tr style=\"text-align: right;\">\n",
       "      <th></th>\n",
       "      <th>id</th>\n",
       "      <th>apply_id</th>\n",
       "      <th>final_status</th>\n",
       "      <th>update_time</th>\n",
       "      <th>result</th>\n",
       "    </tr>\n",
       "  </thead>\n",
       "  <tbody>\n",
       "    <tr>\n",
       "      <th>0</th>\n",
       "      <td>71015409</td>\n",
       "      <td>229442656</td>\n",
       "      <td>2</td>\n",
       "      <td>2017-10-01 00:00:23</td>\n",
       "      <td>#初审拒绝</td>\n",
       "    </tr>\n",
       "    <tr>\n",
       "      <th>1</th>\n",
       "      <td>71015410</td>\n",
       "      <td>229442683</td>\n",
       "      <td>2</td>\n",
       "      <td>2017-10-01 00:01:45</td>\n",
       "      <td>#初审拒绝</td>\n",
       "    </tr>\n",
       "    <tr>\n",
       "      <th>2</th>\n",
       "      <td>71015411</td>\n",
       "      <td>229442688</td>\n",
       "      <td>2</td>\n",
       "      <td>2017-10-01 00:01:52</td>\n",
       "      <td>#初审拒绝</td>\n",
       "    </tr>\n",
       "    <tr>\n",
       "      <th>3</th>\n",
       "      <td>71015412</td>\n",
       "      <td>229442737</td>\n",
       "      <td>2</td>\n",
       "      <td>2017-10-01 00:02:57</td>\n",
       "      <td>#初审拒绝</td>\n",
       "    </tr>\n",
       "    <tr>\n",
       "      <th>4</th>\n",
       "      <td>71015413</td>\n",
       "      <td>229442713</td>\n",
       "      <td>2</td>\n",
       "      <td>2017-10-01 00:03:02</td>\n",
       "      <td>#初审拒绝</td>\n",
       "    </tr>\n",
       "  </tbody>\n",
       "</table>\n",
       "</div>"
      ],
      "text/plain": [
       "         id   apply_id  final_status          update_time result\n",
       "0  71015409  229442656             2  2017-10-01 00:00:23  #初审拒绝\n",
       "1  71015410  229442683             2  2017-10-01 00:01:45  #初审拒绝\n",
       "2  71015411  229442688             2  2017-10-01 00:01:52  #初审拒绝\n",
       "3  71015412  229442737             2  2017-10-01 00:02:57  #初审拒绝\n",
       "4  71015413  229442713             2  2017-10-01 00:03:02  #初审拒绝"
      ]
     },
     "execution_count": 11,
     "metadata": {},
     "output_type": "execute_result"
    }
   ],
   "source": [
    "data_results_org = pd.read_csv('./data/results.csv')\n",
    "data_results_org.head()"
   ]
  },
  {
   "cell_type": "code",
   "execution_count": 12,
   "metadata": {},
   "outputs": [
    {
     "data": {
      "text/plain": [
       "(360796, 5)"
      ]
     },
     "execution_count": 12,
     "metadata": {},
     "output_type": "execute_result"
    }
   ],
   "source": [
    "data_results_org.shape"
   ]
  },
  {
   "cell_type": "code",
   "execution_count": 13,
   "metadata": {},
   "outputs": [
    {
     "data": {
      "text/plain": [
       "Index(['id', 'apply_id', 'final_status', 'update_time', 'result'], dtype='object')"
      ]
     },
     "execution_count": 13,
     "metadata": {},
     "output_type": "execute_result"
    }
   ],
   "source": [
    "data_results_org.columns"
   ]
  },
  {
   "cell_type": "markdown",
   "metadata": {},
   "source": [
    "results.csv  结果信息\n",
    "\n",
    "    `apply_id`   '申请ID',\n",
    "    `final_status`   '表示最终结果状态, 1 通过、2 拒绝、3 取消、4 驳回',\n",
    "    `reason`   '抽取出来的原因字段'"
   ]
  },
  {
   "cell_type": "markdown",
   "metadata": {},
   "source": [
    "## orders 订单信息"
   ]
  },
  {
   "cell_type": "code",
   "execution_count": 14,
   "metadata": {},
   "outputs": [
    {
     "data": {
      "text/html": [
       "<div>\n",
       "<style scoped>\n",
       "    .dataframe tbody tr th:only-of-type {\n",
       "        vertical-align: middle;\n",
       "    }\n",
       "\n",
       "    .dataframe tbody tr th {\n",
       "        vertical-align: top;\n",
       "    }\n",
       "\n",
       "    .dataframe thead th {\n",
       "        text-align: right;\n",
       "    }\n",
       "</style>\n",
       "<table border=\"1\" class=\"dataframe\">\n",
       "  <thead>\n",
       "    <tr style=\"text-align: right;\">\n",
       "      <th></th>\n",
       "      <th>id</th>\n",
       "      <th>apply_id</th>\n",
       "      <th>createtime</th>\n",
       "      <th>DELIVERY_STATUS</th>\n",
       "      <th>STATUS</th>\n",
       "      <th>DELIVERY</th>\n",
       "      <th>QUOTA</th>\n",
       "    </tr>\n",
       "  </thead>\n",
       "  <tbody>\n",
       "    <tr>\n",
       "      <th>0</th>\n",
       "      <td>28347580</td>\n",
       "      <td>29591144</td>\n",
       "      <td>2017-10-20 00:02:01</td>\n",
       "      <td>1</td>\n",
       "      <td>1</td>\n",
       "      <td>0</td>\n",
       "      <td>1472.0</td>\n",
       "    </tr>\n",
       "    <tr>\n",
       "      <th>1</th>\n",
       "      <td>28347581</td>\n",
       "      <td>29591147</td>\n",
       "      <td>2017-10-20 00:04:41</td>\n",
       "      <td>1</td>\n",
       "      <td>1</td>\n",
       "      <td>0</td>\n",
       "      <td>848.0</td>\n",
       "    </tr>\n",
       "    <tr>\n",
       "      <th>2</th>\n",
       "      <td>28347582</td>\n",
       "      <td>29591148</td>\n",
       "      <td>2017-10-20 00:04:43</td>\n",
       "      <td>1</td>\n",
       "      <td>5</td>\n",
       "      <td>0</td>\n",
       "      <td>720.0</td>\n",
       "    </tr>\n",
       "    <tr>\n",
       "      <th>3</th>\n",
       "      <td>28347583</td>\n",
       "      <td>29591149</td>\n",
       "      <td>2017-10-20 00:06:22</td>\n",
       "      <td>1</td>\n",
       "      <td>5</td>\n",
       "      <td>0</td>\n",
       "      <td>1170.0</td>\n",
       "    </tr>\n",
       "    <tr>\n",
       "      <th>4</th>\n",
       "      <td>28347584</td>\n",
       "      <td>29591153</td>\n",
       "      <td>2017-10-20 00:14:33</td>\n",
       "      <td>1</td>\n",
       "      <td>5</td>\n",
       "      <td>0</td>\n",
       "      <td>990.0</td>\n",
       "    </tr>\n",
       "  </tbody>\n",
       "</table>\n",
       "</div>"
      ],
      "text/plain": [
       "         id  apply_id           createtime  DELIVERY_STATUS  STATUS  DELIVERY  \\\n",
       "0  28347580  29591144  2017-10-20 00:02:01                1       1         0   \n",
       "1  28347581  29591147  2017-10-20 00:04:41                1       1         0   \n",
       "2  28347582  29591148  2017-10-20 00:04:43                1       5         0   \n",
       "3  28347583  29591149  2017-10-20 00:06:22                1       5         0   \n",
       "4  28347584  29591153  2017-10-20 00:14:33                1       5         0   \n",
       "\n",
       "    QUOTA  \n",
       "0  1472.0  \n",
       "1   848.0  \n",
       "2   720.0  \n",
       "3  1170.0  \n",
       "4   990.0  "
      ]
     },
     "execution_count": 14,
     "metadata": {},
     "output_type": "execute_result"
    }
   ],
   "source": [
    "data_orders_org = pd.read_csv('./data/orders.csv')\n",
    "data_orders_org.head()"
   ]
  },
  {
   "cell_type": "code",
   "execution_count": 15,
   "metadata": {},
   "outputs": [
    {
     "data": {
      "text/plain": [
       "Index(['id', 'apply_id', 'createtime', 'DELIVERY_STATUS', 'STATUS', 'DELIVERY',\n",
       "       'QUOTA'],\n",
       "      dtype='object')"
      ]
     },
     "execution_count": 15,
     "metadata": {},
     "output_type": "execute_result"
    }
   ],
   "source": [
    "data_orders_org.columns"
   ]
  },
  {
   "cell_type": "code",
   "execution_count": 16,
   "metadata": {},
   "outputs": [
    {
     "data": {
      "text/plain": [
       "(55231, 7)"
      ]
     },
     "execution_count": 16,
     "metadata": {},
     "output_type": "execute_result"
    }
   ],
   "source": [
    "data_orders_org.shape"
   ]
  },
  {
   "cell_type": "markdown",
   "metadata": {},
   "source": [
    "order.csv  订单信息\n",
    "\n",
    "    `apply_id`  '申请ID',\n",
    "    `customer_id` '用户编号',\n",
    "    `createtime`  '创建时间',\n",
    "    `DELIVERY_STATUS`  '发货状态：默认1，1未发货 2已发货3退货',\n",
    "    `STATUS`  '订单状态:默认1 ，1已支付 2有预付款 4取消 5完成',\n",
    "    `DELIVERY`  '发货',\n",
    "    `QUOTA`  '订单本金'"
   ]
  },
  {
   "cell_type": "markdown",
   "metadata": {},
   "source": [
    "## order_details 账单分期信息"
   ]
  },
  {
   "cell_type": "code",
   "execution_count": 17,
   "metadata": {},
   "outputs": [
    {
     "data": {
      "text/html": [
       "<div>\n",
       "<style scoped>\n",
       "    .dataframe tbody tr th:only-of-type {\n",
       "        vertical-align: middle;\n",
       "    }\n",
       "\n",
       "    .dataframe tbody tr th {\n",
       "        vertical-align: top;\n",
       "    }\n",
       "\n",
       "    .dataframe thead th {\n",
       "        text-align: right;\n",
       "    }\n",
       "</style>\n",
       "<table border=\"1\" class=\"dataframe\">\n",
       "  <thead>\n",
       "    <tr style=\"text-align: right;\">\n",
       "      <th></th>\n",
       "      <th>order_id</th>\n",
       "      <th>repayment</th>\n",
       "      <th>stage</th>\n",
       "      <th>STATUS</th>\n",
       "      <th>IS_OVERDUE</th>\n",
       "      <th>OVER_DAY</th>\n",
       "      <th>REPAYMENT_TIME</th>\n",
       "      <th>PAYMENT_DATE</th>\n",
       "      <th>CREATE_TIME</th>\n",
       "    </tr>\n",
       "  </thead>\n",
       "  <tbody>\n",
       "    <tr>\n",
       "      <th>0</th>\n",
       "      <td>28347580</td>\n",
       "      <td>1-1</td>\n",
       "      <td>1600.0</td>\n",
       "      <td>2</td>\n",
       "      <td>1</td>\n",
       "      <td>164.0</td>\n",
       "      <td>2017-11-09 00:00:00</td>\n",
       "      <td>NaN</td>\n",
       "      <td>2017-11-11 23:12:06</td>\n",
       "    </tr>\n",
       "    <tr>\n",
       "      <th>1</th>\n",
       "      <td>28347581</td>\n",
       "      <td>1-1</td>\n",
       "      <td>1000.0</td>\n",
       "      <td>2</td>\n",
       "      <td>1</td>\n",
       "      <td>177.0</td>\n",
       "      <td>2017-10-27 00:00:00</td>\n",
       "      <td>NaN</td>\n",
       "      <td>2017-11-11 23:12:06</td>\n",
       "    </tr>\n",
       "    <tr>\n",
       "      <th>2</th>\n",
       "      <td>28347582</td>\n",
       "      <td>1-1</td>\n",
       "      <td>900.0</td>\n",
       "      <td>1</td>\n",
       "      <td>1</td>\n",
       "      <td>1.0</td>\n",
       "      <td>2017-11-04 00:00:00</td>\n",
       "      <td>2017-11-05 22:37:24</td>\n",
       "      <td>2017-11-11 23:12:06</td>\n",
       "    </tr>\n",
       "    <tr>\n",
       "      <th>3</th>\n",
       "      <td>28347583</td>\n",
       "      <td>1-1</td>\n",
       "      <td>1300.0</td>\n",
       "      <td>1</td>\n",
       "      <td>1</td>\n",
       "      <td>3.0</td>\n",
       "      <td>2017-11-09 00:00:00</td>\n",
       "      <td>2017-11-12 13:12:50</td>\n",
       "      <td>2017-11-11 23:12:06</td>\n",
       "    </tr>\n",
       "    <tr>\n",
       "      <th>4</th>\n",
       "      <td>28347584</td>\n",
       "      <td>1-1</td>\n",
       "      <td>1100.0</td>\n",
       "      <td>1</td>\n",
       "      <td>1</td>\n",
       "      <td>3.0</td>\n",
       "      <td>2017-11-09 00:00:00</td>\n",
       "      <td>2017-11-12 17:28:39</td>\n",
       "      <td>2017-11-11 23:12:06</td>\n",
       "    </tr>\n",
       "  </tbody>\n",
       "</table>\n",
       "</div>"
      ],
      "text/plain": [
       "   order_id repayment   stage  STATUS  IS_OVERDUE  OVER_DAY  \\\n",
       "0  28347580       1-1  1600.0       2           1     164.0   \n",
       "1  28347581       1-1  1000.0       2           1     177.0   \n",
       "2  28347582       1-1   900.0       1           1       1.0   \n",
       "3  28347583       1-1  1300.0       1           1       3.0   \n",
       "4  28347584       1-1  1100.0       1           1       3.0   \n",
       "\n",
       "        REPAYMENT_TIME         PAYMENT_DATE          CREATE_TIME  \n",
       "0  2017-11-09 00:00:00                  NaN  2017-11-11 23:12:06  \n",
       "1  2017-10-27 00:00:00                  NaN  2017-11-11 23:12:06  \n",
       "2  2017-11-04 00:00:00  2017-11-05 22:37:24  2017-11-11 23:12:06  \n",
       "3  2017-11-09 00:00:00  2017-11-12 13:12:50  2017-11-11 23:12:06  \n",
       "4  2017-11-09 00:00:00  2017-11-12 17:28:39  2017-11-11 23:12:06  "
      ]
     },
     "execution_count": 17,
     "metadata": {},
     "output_type": "execute_result"
    }
   ],
   "source": [
    "data_order_details_org = pd.read_csv('./data/order_details.csv')\n",
    "data_order_details_org.head()"
   ]
  },
  {
   "cell_type": "code",
   "execution_count": 18,
   "metadata": {},
   "outputs": [
    {
     "data": {
      "text/plain": [
       "Index(['order_id', 'repayment', 'stage', 'STATUS', 'IS_OVERDUE', 'OVER_DAY',\n",
       "       'REPAYMENT_TIME', 'PAYMENT_DATE', 'CREATE_TIME'],\n",
       "      dtype='object')"
      ]
     },
     "execution_count": 18,
     "metadata": {},
     "output_type": "execute_result"
    }
   ],
   "source": [
    "data_order_details_org.columns"
   ]
  },
  {
   "cell_type": "code",
   "execution_count": 19,
   "metadata": {},
   "outputs": [
    {
     "data": {
      "text/plain": [
       "(205211, 9)"
      ]
     },
     "execution_count": 19,
     "metadata": {},
     "output_type": "execute_result"
    }
   ],
   "source": [
    "data_order_details_org.shape"
   ]
  },
  {
   "cell_type": "markdown",
   "metadata": {},
   "source": [
    "order_details.csv  账单分期信息\n",
    "\n",
    "    `order_id`  '订单ID',\n",
    "    `stage`,`status`  '应还本金',\n",
    "    `IS_OVERDUE`   '是否逾期',\n",
    "    `OVER_DAY`   '逾期天数',\n",
    "    `REPAYMENT_TIME`   '应还款时间',\n",
    "    `PAYMENT_DATE`   '实还款日期'"
   ]
  },
  {
   "cell_type": "markdown",
   "metadata": {},
   "source": [
    "# 分析目标"
   ]
  },
  {
   "cell_type": "markdown",
   "metadata": {},
   "source": [
    "## 了解业务发展情况\n",
    "\n",
    "（1）有哪些业务，不同业务的情况下的业务量， 如按照月份画出变化图。\n",
    "\n",
    "（2）办理业务的人群分布（年龄，性别，职业等）\n",
    "\n",
    "（3）对于消费贷，分析各个不同渠道的单量贡献。\n",
    "\n",
    "## 业务审核情况\n",
    "\n",
    "（1）计算不同业务的平均时效（注意对于某单的操作如果大于2h， 7600s处理）\n",
    "\n",
    "（2）计算不同业务通过率，取消率， 拒绝率\n",
    "\n",
    "（3）对于消费贷，查看不同取消率的占的比重。\n",
    "\n",
    "\n",
    "## 贷后情况\n",
    "\n",
    "（1）订单的逾期情况，逾期金额，逾期人数，逾期率（金额和人数）等\n",
    "\n",
    "\n",
    "## 业务趋势\n",
    "\n",
    "结合上述了解的情况，请制定下一周期（接下来1个月）时间段内目标，有说明。\n",
    "\n",
    "- 单量, 放款量\n",
    "\n",
    "- 时效: 审核时间， 取消率\n",
    "\n",
    "- 逾期率\n",
    "\n",
    "\n",
    "## 数据其它维度的挖掘\n",
    "\n",
    "- 客户维度\n",
    "\n",
    "\n",
    "- 时间维度\n",
    "\n",
    "\n",
    "## 输出分析报告\n",
    "\n",
    "分析报告\n",
    "\n",
    "决策建议\n",
    "\n",
    "数据支持"
   ]
  },
  {
   "cell_type": "markdown",
   "metadata": {},
   "source": [
    "# 数据预处理"
   ]
  },
  {
   "cell_type": "markdown",
   "metadata": {},
   "source": [
    "## data_applys_org"
   ]
  },
  {
   "cell_type": "code",
   "execution_count": 20,
   "metadata": {},
   "outputs": [
    {
     "data": {
      "text/html": [
       "<div>\n",
       "<style scoped>\n",
       "    .dataframe tbody tr th:only-of-type {\n",
       "        vertical-align: middle;\n",
       "    }\n",
       "\n",
       "    .dataframe tbody tr th {\n",
       "        vertical-align: top;\n",
       "    }\n",
       "\n",
       "    .dataframe thead th {\n",
       "        text-align: right;\n",
       "    }\n",
       "</style>\n",
       "<table border=\"1\" class=\"dataframe\">\n",
       "  <thead>\n",
       "    <tr style=\"text-align: right;\">\n",
       "      <th></th>\n",
       "      <th>apply_id</th>\n",
       "      <th>customer_id</th>\n",
       "      <th>channel_id</th>\n",
       "      <th>goods_id</th>\n",
       "      <th>consume_goods_name</th>\n",
       "      <th>consume_goods_type</th>\n",
       "      <th>seller_id</th>\n",
       "      <th>seller_city</th>\n",
       "      <th>seller_risk_level</th>\n",
       "      <th>apply_amount</th>\n",
       "      <th>apply_time</th>\n",
       "      <th>apply_periods</th>\n",
       "      <th>recommend_code</th>\n",
       "      <th>clerk_id</th>\n",
       "      <th>clerk_submit_time</th>\n",
       "      <th>consume_goods_price</th>\n",
       "      <th>consume_goods_advance</th>\n",
       "      <th>consume_goods_remark</th>\n",
       "      <th>user_risk_level</th>\n",
       "    </tr>\n",
       "  </thead>\n",
       "  <tbody>\n",
       "    <tr>\n",
       "      <th>0</th>\n",
       "      <td>228679091</td>\n",
       "      <td>528424289</td>\n",
       "      <td>56466223</td>\n",
       "      <td>28562248</td>\n",
       "      <td>苹果7plus128g金色（首付2700）</td>\n",
       "      <td>0</td>\n",
       "      <td>27053709</td>\n",
       "      <td>1465.0</td>\n",
       "      <td>0.0</td>\n",
       "      <td>4100</td>\n",
       "      <td>2017-11-22 00:00:00</td>\n",
       "      <td>15</td>\n",
       "      <td>0000</td>\n",
       "      <td>13654.0</td>\n",
       "      <td>NaN</td>\n",
       "      <td>NaN</td>\n",
       "      <td>NaN</td>\n",
       "      <td>NaN</td>\n",
       "      <td>NaN</td>\n",
       "    </tr>\n",
       "    <tr>\n",
       "      <th>1</th>\n",
       "      <td>229442713</td>\n",
       "      <td>529099188</td>\n",
       "      <td>1080747328</td>\n",
       "      <td>0</td>\n",
       "      <td>NaN</td>\n",
       "      <td>3</td>\n",
       "      <td>0</td>\n",
       "      <td>NaN</td>\n",
       "      <td>NaN</td>\n",
       "      <td>700</td>\n",
       "      <td>2017-10-01 00:00:14</td>\n",
       "      <td>1</td>\n",
       "      <td>NaN</td>\n",
       "      <td>NaN</td>\n",
       "      <td>NaN</td>\n",
       "      <td>NaN</td>\n",
       "      <td>NaN</td>\n",
       "      <td>NaN</td>\n",
       "      <td>NaN</td>\n",
       "    </tr>\n",
       "    <tr>\n",
       "      <th>2</th>\n",
       "      <td>229442737</td>\n",
       "      <td>529100126</td>\n",
       "      <td>1080747328</td>\n",
       "      <td>0</td>\n",
       "      <td>NaN</td>\n",
       "      <td>3</td>\n",
       "      <td>0</td>\n",
       "      <td>NaN</td>\n",
       "      <td>NaN</td>\n",
       "      <td>2000</td>\n",
       "      <td>2017-10-01 00:00:47</td>\n",
       "      <td>1</td>\n",
       "      <td>NaN</td>\n",
       "      <td>NaN</td>\n",
       "      <td>NaN</td>\n",
       "      <td>NaN</td>\n",
       "      <td>NaN</td>\n",
       "      <td>NaN</td>\n",
       "      <td>NaN</td>\n",
       "    </tr>\n",
       "    <tr>\n",
       "      <th>3</th>\n",
       "      <td>229442740</td>\n",
       "      <td>528963792</td>\n",
       "      <td>2114879934</td>\n",
       "      <td>0</td>\n",
       "      <td>NaN</td>\n",
       "      <td>3</td>\n",
       "      <td>0</td>\n",
       "      <td>NaN</td>\n",
       "      <td>NaN</td>\n",
       "      <td>2000</td>\n",
       "      <td>2017-10-01 00:00:48</td>\n",
       "      <td>1</td>\n",
       "      <td>NaN</td>\n",
       "      <td>NaN</td>\n",
       "      <td>NaN</td>\n",
       "      <td>NaN</td>\n",
       "      <td>NaN</td>\n",
       "      <td>NaN</td>\n",
       "      <td>NaN</td>\n",
       "    </tr>\n",
       "    <tr>\n",
       "      <th>4</th>\n",
       "      <td>229442745</td>\n",
       "      <td>529101303</td>\n",
       "      <td>1080747328</td>\n",
       "      <td>0</td>\n",
       "      <td>NaN</td>\n",
       "      <td>3</td>\n",
       "      <td>0</td>\n",
       "      <td>NaN</td>\n",
       "      <td>NaN</td>\n",
       "      <td>800</td>\n",
       "      <td>2017-10-01 00:00:57</td>\n",
       "      <td>1</td>\n",
       "      <td>NaN</td>\n",
       "      <td>NaN</td>\n",
       "      <td>NaN</td>\n",
       "      <td>NaN</td>\n",
       "      <td>NaN</td>\n",
       "      <td>NaN</td>\n",
       "      <td>NaN</td>\n",
       "    </tr>\n",
       "  </tbody>\n",
       "</table>\n",
       "</div>"
      ],
      "text/plain": [
       "    apply_id  customer_id  channel_id  goods_id     consume_goods_name  \\\n",
       "0  228679091    528424289    56466223  28562248  苹果7plus128g金色（首付2700）   \n",
       "1  229442713    529099188  1080747328         0                    NaN   \n",
       "2  229442737    529100126  1080747328         0                    NaN   \n",
       "3  229442740    528963792  2114879934         0                    NaN   \n",
       "4  229442745    529101303  1080747328         0                    NaN   \n",
       "\n",
       "   consume_goods_type  seller_id  seller_city  seller_risk_level  \\\n",
       "0                   0   27053709       1465.0                0.0   \n",
       "1                   3          0          NaN                NaN   \n",
       "2                   3          0          NaN                NaN   \n",
       "3                   3          0          NaN                NaN   \n",
       "4                   3          0          NaN                NaN   \n",
       "\n",
       "   apply_amount           apply_time  apply_periods recommend_code  clerk_id  \\\n",
       "0          4100  2017-11-22 00:00:00             15           0000   13654.0   \n",
       "1           700  2017-10-01 00:00:14              1            NaN       NaN   \n",
       "2          2000  2017-10-01 00:00:47              1            NaN       NaN   \n",
       "3          2000  2017-10-01 00:00:48              1            NaN       NaN   \n",
       "4           800  2017-10-01 00:00:57              1            NaN       NaN   \n",
       "\n",
       "   clerk_submit_time  consume_goods_price  consume_goods_advance  \\\n",
       "0                NaN                  NaN                    NaN   \n",
       "1                NaN                  NaN                    NaN   \n",
       "2                NaN                  NaN                    NaN   \n",
       "3                NaN                  NaN                    NaN   \n",
       "4                NaN                  NaN                    NaN   \n",
       "\n",
       "  consume_goods_remark user_risk_level  \n",
       "0                  NaN             NaN  \n",
       "1                  NaN             NaN  \n",
       "2                  NaN             NaN  \n",
       "3                  NaN             NaN  \n",
       "4                  NaN             NaN  "
      ]
     },
     "execution_count": 20,
     "metadata": {},
     "output_type": "execute_result"
    }
   ],
   "source": [
    "data_applys_org.head()"
   ]
  },
  {
   "cell_type": "code",
   "execution_count": 21,
   "metadata": {},
   "outputs": [
    {
     "data": {
      "text/plain": [
       "apply_id                 False\n",
       "customer_id              False\n",
       "channel_id               False\n",
       "goods_id                 False\n",
       "consume_goods_name       False\n",
       "consume_goods_type       False\n",
       "seller_id                False\n",
       "seller_city              False\n",
       "seller_risk_level        False\n",
       "apply_amount             False\n",
       "apply_time               False\n",
       "apply_periods            False\n",
       "recommend_code           False\n",
       "clerk_id                 False\n",
       "clerk_submit_time         True\n",
       "consume_goods_price      False\n",
       "consume_goods_advance    False\n",
       "consume_goods_remark     False\n",
       "user_risk_level          False\n",
       "dtype: bool"
      ]
     },
     "execution_count": 21,
     "metadata": {},
     "output_type": "execute_result"
    }
   ],
   "source": [
    "data_applys_org.isnull().all()"
   ]
  },
  {
   "cell_type": "markdown",
   "metadata": {},
   "source": [
    "## data_users_org"
   ]
  },
  {
   "cell_type": "code",
   "execution_count": 22,
   "metadata": {},
   "outputs": [
    {
     "data": {
      "text/html": [
       "<div>\n",
       "<style scoped>\n",
       "    .dataframe tbody tr th:only-of-type {\n",
       "        vertical-align: middle;\n",
       "    }\n",
       "\n",
       "    .dataframe tbody tr th {\n",
       "        vertical-align: top;\n",
       "    }\n",
       "\n",
       "    .dataframe thead th {\n",
       "        text-align: right;\n",
       "    }\n",
       "</style>\n",
       "<table border=\"1\" class=\"dataframe\">\n",
       "  <thead>\n",
       "    <tr style=\"text-align: right;\">\n",
       "      <th></th>\n",
       "      <th>apply_id</th>\n",
       "      <th>customer_id</th>\n",
       "      <th>name</th>\n",
       "      <th>phone</th>\n",
       "      <th>grant_operator_phone</th>\n",
       "      <th>idcard</th>\n",
       "      <th>customer_type</th>\n",
       "      <th>is_real_name</th>\n",
       "      <th>month_income</th>\n",
       "      <th>loan_intent</th>\n",
       "      <th>...</th>\n",
       "      <th>locate_longitude</th>\n",
       "      <th>authorized_contacts</th>\n",
       "      <th>authorized_fund</th>\n",
       "      <th>authorized_jd</th>\n",
       "      <th>authorized_operator</th>\n",
       "      <th>authorized_qq</th>\n",
       "      <th>authorized_sms</th>\n",
       "      <th>authorized_social_security</th>\n",
       "      <th>authorized_taobao</th>\n",
       "      <th>authorized_xuexin</th>\n",
       "    </tr>\n",
       "  </thead>\n",
       "  <tbody>\n",
       "    <tr>\n",
       "      <th>0</th>\n",
       "      <td>228679091</td>\n",
       "      <td>528424289</td>\n",
       "      <td>刘*</td>\n",
       "      <td>151****1853</td>\n",
       "      <td>151****1853</td>\n",
       "      <td>4*****1990****2238</td>\n",
       "      <td>2</td>\n",
       "      <td>0</td>\n",
       "      <td>0</td>\n",
       "      <td>NaN</td>\n",
       "      <td>...</td>\n",
       "      <td>0.000</td>\n",
       "      <td>1</td>\n",
       "      <td>0</td>\n",
       "      <td>0</td>\n",
       "      <td>1</td>\n",
       "      <td>0</td>\n",
       "      <td>1</td>\n",
       "      <td>0</td>\n",
       "      <td>0</td>\n",
       "      <td>0</td>\n",
       "    </tr>\n",
       "    <tr>\n",
       "      <th>1</th>\n",
       "      <td>229442713</td>\n",
       "      <td>529099188</td>\n",
       "      <td>莫*</td>\n",
       "      <td>153****4251</td>\n",
       "      <td>153****4251</td>\n",
       "      <td>4*****1995****5717</td>\n",
       "      <td>2</td>\n",
       "      <td>0</td>\n",
       "      <td>0</td>\n",
       "      <td>NaN</td>\n",
       "      <td>...</td>\n",
       "      <td>113.611</td>\n",
       "      <td>0</td>\n",
       "      <td>0</td>\n",
       "      <td>0</td>\n",
       "      <td>1</td>\n",
       "      <td>0</td>\n",
       "      <td>1</td>\n",
       "      <td>0</td>\n",
       "      <td>0</td>\n",
       "      <td>0</td>\n",
       "    </tr>\n",
       "    <tr>\n",
       "      <th>2</th>\n",
       "      <td>229442737</td>\n",
       "      <td>529100126</td>\n",
       "      <td>杨*</td>\n",
       "      <td>132****2874</td>\n",
       "      <td>132****2874</td>\n",
       "      <td>5*****1999****0915</td>\n",
       "      <td>2</td>\n",
       "      <td>0</td>\n",
       "      <td>0</td>\n",
       "      <td>NaN</td>\n",
       "      <td>...</td>\n",
       "      <td>104.220</td>\n",
       "      <td>0</td>\n",
       "      <td>0</td>\n",
       "      <td>0</td>\n",
       "      <td>1</td>\n",
       "      <td>0</td>\n",
       "      <td>1</td>\n",
       "      <td>0</td>\n",
       "      <td>0</td>\n",
       "      <td>0</td>\n",
       "    </tr>\n",
       "    <tr>\n",
       "      <th>3</th>\n",
       "      <td>229442740</td>\n",
       "      <td>528963792</td>\n",
       "      <td>徐*</td>\n",
       "      <td>158****4115</td>\n",
       "      <td>158****4115</td>\n",
       "      <td>5*****1994****8478</td>\n",
       "      <td>2</td>\n",
       "      <td>0</td>\n",
       "      <td>0</td>\n",
       "      <td>NaN</td>\n",
       "      <td>...</td>\n",
       "      <td>105.566</td>\n",
       "      <td>0</td>\n",
       "      <td>0</td>\n",
       "      <td>0</td>\n",
       "      <td>1</td>\n",
       "      <td>0</td>\n",
       "      <td>1</td>\n",
       "      <td>0</td>\n",
       "      <td>0</td>\n",
       "      <td>0</td>\n",
       "    </tr>\n",
       "    <tr>\n",
       "      <th>4</th>\n",
       "      <td>229442745</td>\n",
       "      <td>529101303</td>\n",
       "      <td>吴*</td>\n",
       "      <td>134****7272</td>\n",
       "      <td>134****7272</td>\n",
       "      <td>4*****1995****5619</td>\n",
       "      <td>2</td>\n",
       "      <td>0</td>\n",
       "      <td>0</td>\n",
       "      <td>NaN</td>\n",
       "      <td>...</td>\n",
       "      <td>114.384</td>\n",
       "      <td>0</td>\n",
       "      <td>0</td>\n",
       "      <td>1***</td>\n",
       "      <td>1</td>\n",
       "      <td>0</td>\n",
       "      <td>1</td>\n",
       "      <td>0</td>\n",
       "      <td>0</td>\n",
       "      <td>1***</td>\n",
       "    </tr>\n",
       "  </tbody>\n",
       "</table>\n",
       "<p>5 rows × 28 columns</p>\n",
       "</div>"
      ],
      "text/plain": [
       "    apply_id  customer_id name        phone grant_operator_phone  \\\n",
       "0  228679091    528424289   刘*  151****1853          151****1853   \n",
       "1  229442713    529099188   莫*  153****4251          153****4251   \n",
       "2  229442737    529100126   杨*  132****2874          132****2874   \n",
       "3  229442740    528963792   徐*  158****4115          158****4115   \n",
       "4  229442745    529101303   吴*  134****7272          134****7272   \n",
       "\n",
       "               idcard  customer_type  is_real_name  month_income loan_intent  \\\n",
       "0  4*****1990****2238              2             0             0         NaN   \n",
       "1  4*****1995****5717              2             0             0         NaN   \n",
       "2  5*****1999****0915              2             0             0         NaN   \n",
       "3  5*****1994****8478              2             0             0         NaN   \n",
       "4  4*****1995****5619              2             0             0         NaN   \n",
       "\n",
       "         ...         locate_longitude authorized_contacts authorized_fund  \\\n",
       "0        ...                    0.000                   1               0   \n",
       "1        ...                  113.611                   0               0   \n",
       "2        ...                  104.220                   0               0   \n",
       "3        ...                  105.566                   0               0   \n",
       "4        ...                  114.384                   0               0   \n",
       "\n",
       "  authorized_jd authorized_operator authorized_qq authorized_sms  \\\n",
       "0             0                   1             0              1   \n",
       "1             0                   1             0              1   \n",
       "2             0                   1             0              1   \n",
       "3             0                   1             0              1   \n",
       "4          1***                   1             0              1   \n",
       "\n",
       "   authorized_social_security  authorized_taobao  authorized_xuexin  \n",
       "0                           0                  0                  0  \n",
       "1                           0                  0                  0  \n",
       "2                           0                  0                  0  \n",
       "3                           0                  0                  0  \n",
       "4                           0                  0               1***  \n",
       "\n",
       "[5 rows x 28 columns]"
      ]
     },
     "execution_count": 22,
     "metadata": {},
     "output_type": "execute_result"
    }
   ],
   "source": [
    "data_users_org.head()"
   ]
  },
  {
   "cell_type": "code",
   "execution_count": 23,
   "metadata": {},
   "outputs": [
    {
     "data": {
      "text/plain": [
       "apply_id                      False\n",
       "customer_id                   False\n",
       "name                          False\n",
       "phone                         False\n",
       "grant_operator_phone          False\n",
       "idcard                        False\n",
       "customer_type                 False\n",
       "is_real_name                  False\n",
       "month_income                  False\n",
       "loan_intent                   False\n",
       "company_city                  False\n",
       "autograph_url                 False\n",
       "idcard_head_image_url         False\n",
       "idcard_tail_image_url         False\n",
       "idcard_handheld_image_url     False\n",
       "other_image_url               False\n",
       "job                           False\n",
       "locate_latitude               False\n",
       "locate_longitude              False\n",
       "authorized_contacts           False\n",
       "authorized_fund               False\n",
       "authorized_jd                 False\n",
       "authorized_operator           False\n",
       "authorized_qq                 False\n",
       "authorized_sms                False\n",
       "authorized_social_security    False\n",
       "authorized_taobao             False\n",
       "authorized_xuexin             False\n",
       "dtype: bool"
      ]
     },
     "execution_count": 23,
     "metadata": {},
     "output_type": "execute_result"
    }
   ],
   "source": [
    "data_users_org.isnull().all()"
   ]
  },
  {
   "cell_type": "markdown",
   "metadata": {},
   "source": [
    "## data_audits_org"
   ]
  },
  {
   "cell_type": "code",
   "execution_count": 24,
   "metadata": {},
   "outputs": [
    {
     "data": {
      "text/html": [
       "<div>\n",
       "<style scoped>\n",
       "    .dataframe tbody tr th:only-of-type {\n",
       "        vertical-align: middle;\n",
       "    }\n",
       "\n",
       "    .dataframe tbody tr th {\n",
       "        vertical-align: top;\n",
       "    }\n",
       "\n",
       "    .dataframe thead th {\n",
       "        text-align: right;\n",
       "    }\n",
       "</style>\n",
       "<table border=\"1\" class=\"dataframe\">\n",
       "  <thead>\n",
       "    <tr style=\"text-align: right;\">\n",
       "      <th></th>\n",
       "      <th>apply_id</th>\n",
       "      <th>customer_id</th>\n",
       "      <th>audit_status</th>\n",
       "      <th>channel_push_status</th>\n",
       "      <th>insert_time</th>\n",
       "      <th>social_security</th>\n",
       "      <th>credit_report</th>\n",
       "      <th>operator</th>\n",
       "      <th>sms</th>\n",
       "      <th>memo</th>\n",
       "      <th>...</th>\n",
       "      <th>channel_auditor_memo</th>\n",
       "      <th>channel_auditor_start_time</th>\n",
       "      <th>channel_auditor_finish_time</th>\n",
       "      <th>clerk_update_msg</th>\n",
       "      <th>clerk_update_status</th>\n",
       "      <th>clerk_update_time</th>\n",
       "      <th>manager_id</th>\n",
       "      <th>manager_update_time</th>\n",
       "      <th>manager_status</th>\n",
       "      <th>manager_memo</th>\n",
       "    </tr>\n",
       "  </thead>\n",
       "  <tbody>\n",
       "    <tr>\n",
       "      <th>0</th>\n",
       "      <td>229442713</td>\n",
       "      <td>529099188</td>\n",
       "      <td>1</td>\n",
       "      <td>0</td>\n",
       "      <td>2017-10-01 00:00:15</td>\n",
       "      <td>NaN</td>\n",
       "      <td>NaN</td>\n",
       "      <td>NaN</td>\n",
       "      <td>NaN</td>\n",
       "      <td>NaN</td>\n",
       "      <td>...</td>\n",
       "      <td>NaN</td>\n",
       "      <td>NaN</td>\n",
       "      <td>NaN</td>\n",
       "      <td>NaN</td>\n",
       "      <td>0</td>\n",
       "      <td>NaN</td>\n",
       "      <td>NaN</td>\n",
       "      <td>NaN</td>\n",
       "      <td>0</td>\n",
       "      <td>NaN</td>\n",
       "    </tr>\n",
       "    <tr>\n",
       "      <th>1</th>\n",
       "      <td>229442737</td>\n",
       "      <td>529100126</td>\n",
       "      <td>1</td>\n",
       "      <td>0</td>\n",
       "      <td>2017-10-01 00:00:47</td>\n",
       "      <td>NaN</td>\n",
       "      <td>NaN</td>\n",
       "      <td>NaN</td>\n",
       "      <td>NaN</td>\n",
       "      <td>NaN</td>\n",
       "      <td>...</td>\n",
       "      <td>NaN</td>\n",
       "      <td>NaN</td>\n",
       "      <td>NaN</td>\n",
       "      <td>NaN</td>\n",
       "      <td>0</td>\n",
       "      <td>NaN</td>\n",
       "      <td>NaN</td>\n",
       "      <td>NaN</td>\n",
       "      <td>0</td>\n",
       "      <td>NaN</td>\n",
       "    </tr>\n",
       "    <tr>\n",
       "      <th>2</th>\n",
       "      <td>229442740</td>\n",
       "      <td>528963792</td>\n",
       "      <td>7</td>\n",
       "      <td>0</td>\n",
       "      <td>2017-10-01 00:00:49</td>\n",
       "      <td>NaN</td>\n",
       "      <td>NaN</td>\n",
       "      <td>NaN</td>\n",
       "      <td>NaN</td>\n",
       "      <td>{\\cancel\\\": {\\\"msg\\\": \\\"\\\", \\\"result\\\": []}, \\...</td>\n",
       "      <td>...</td>\n",
       "      <td>NaN</td>\n",
       "      <td>NaN</td>\n",
       "      <td>NaN</td>\n",
       "      <td>NaN</td>\n",
       "      <td>0</td>\n",
       "      <td>NaN</td>\n",
       "      <td>NaN</td>\n",
       "      <td>NaN</td>\n",
       "      <td>0</td>\n",
       "      <td>NaN</td>\n",
       "    </tr>\n",
       "    <tr>\n",
       "      <th>3</th>\n",
       "      <td>229442745</td>\n",
       "      <td>529101303</td>\n",
       "      <td>1</td>\n",
       "      <td>0</td>\n",
       "      <td>2017-10-01 00:00:58</td>\n",
       "      <td>NaN</td>\n",
       "      <td>NaN</td>\n",
       "      <td>NaN</td>\n",
       "      <td>NaN</td>\n",
       "      <td>NaN</td>\n",
       "      <td>...</td>\n",
       "      <td>NaN</td>\n",
       "      <td>NaN</td>\n",
       "      <td>NaN</td>\n",
       "      <td>NaN</td>\n",
       "      <td>0</td>\n",
       "      <td>NaN</td>\n",
       "      <td>NaN</td>\n",
       "      <td>NaN</td>\n",
       "      <td>0</td>\n",
       "      <td>NaN</td>\n",
       "    </tr>\n",
       "    <tr>\n",
       "      <th>4</th>\n",
       "      <td>229442754</td>\n",
       "      <td>529097569</td>\n",
       "      <td>1</td>\n",
       "      <td>0</td>\n",
       "      <td>2017-10-01 00:01:13</td>\n",
       "      <td>NaN</td>\n",
       "      <td>NaN</td>\n",
       "      <td>NaN</td>\n",
       "      <td>NaN</td>\n",
       "      <td>NaN</td>\n",
       "      <td>...</td>\n",
       "      <td>NaN</td>\n",
       "      <td>NaN</td>\n",
       "      <td>NaN</td>\n",
       "      <td>NaN</td>\n",
       "      <td>0</td>\n",
       "      <td>NaN</td>\n",
       "      <td>NaN</td>\n",
       "      <td>NaN</td>\n",
       "      <td>0</td>\n",
       "      <td>NaN</td>\n",
       "    </tr>\n",
       "  </tbody>\n",
       "</table>\n",
       "<p>5 rows × 34 columns</p>\n",
       "</div>"
      ],
      "text/plain": [
       "    apply_id  customer_id  audit_status  channel_push_status  \\\n",
       "0  229442713    529099188             1                    0   \n",
       "1  229442737    529100126             1                    0   \n",
       "2  229442740    528963792             7                    0   \n",
       "3  229442745    529101303             1                    0   \n",
       "4  229442754    529097569             1                    0   \n",
       "\n",
       "           insert_time  social_security  credit_report  operator  sms  \\\n",
       "0  2017-10-01 00:00:15              NaN            NaN       NaN  NaN   \n",
       "1  2017-10-01 00:00:47              NaN            NaN       NaN  NaN   \n",
       "2  2017-10-01 00:00:49              NaN            NaN       NaN  NaN   \n",
       "3  2017-10-01 00:00:58              NaN            NaN       NaN  NaN   \n",
       "4  2017-10-01 00:01:13              NaN            NaN       NaN  NaN   \n",
       "\n",
       "                                                memo     ...       \\\n",
       "0                                                NaN     ...        \n",
       "1                                                NaN     ...        \n",
       "2  {\\cancel\\\": {\\\"msg\\\": \\\"\\\", \\\"result\\\": []}, \\...     ...        \n",
       "3                                                NaN     ...        \n",
       "4                                                NaN     ...        \n",
       "\n",
       "   channel_auditor_memo  channel_auditor_start_time  \\\n",
       "0                   NaN                         NaN   \n",
       "1                   NaN                         NaN   \n",
       "2                   NaN                         NaN   \n",
       "3                   NaN                         NaN   \n",
       "4                   NaN                         NaN   \n",
       "\n",
       "   channel_auditor_finish_time clerk_update_msg clerk_update_status  \\\n",
       "0                          NaN              NaN                   0   \n",
       "1                          NaN              NaN                   0   \n",
       "2                          NaN              NaN                   0   \n",
       "3                          NaN              NaN                   0   \n",
       "4                          NaN              NaN                   0   \n",
       "\n",
       "  clerk_update_time  manager_id  manager_update_time manager_status  \\\n",
       "0               NaN         NaN                  NaN              0   \n",
       "1               NaN         NaN                  NaN              0   \n",
       "2               NaN         NaN                  NaN              0   \n",
       "3               NaN         NaN                  NaN              0   \n",
       "4               NaN         NaN                  NaN              0   \n",
       "\n",
       "  manager_memo  \n",
       "0          NaN  \n",
       "1          NaN  \n",
       "2          NaN  \n",
       "3          NaN  \n",
       "4          NaN  \n",
       "\n",
       "[5 rows x 34 columns]"
      ]
     },
     "execution_count": 24,
     "metadata": {},
     "output_type": "execute_result"
    }
   ],
   "source": [
    "data_audits_org.head()"
   ]
  },
  {
   "cell_type": "code",
   "execution_count": 25,
   "metadata": {},
   "outputs": [
    {
     "data": {
      "text/plain": [
       "apply_id                       False\n",
       "customer_id                    False\n",
       "audit_status                   False\n",
       "channel_push_status            False\n",
       "insert_time                    False\n",
       "social_security                 True\n",
       "credit_report                   True\n",
       "operator                        True\n",
       "sms                             True\n",
       "memo                           False\n",
       "approve_amount                 False\n",
       "approve_periods                 True\n",
       "auditor_id                     False\n",
       "audit_start_time               False\n",
       "audit_finish_time              False\n",
       "decision                       False\n",
       "tele_auditor_id                False\n",
       "tele_audit_result               True\n",
       "tele_decision                  False\n",
       "tele_memo                      False\n",
       "tele_start_date                False\n",
       "tele_finish_date               False\n",
       "channel_auditor_id             False\n",
       "channel_auditor_decision       False\n",
       "channel_auditor_memo           False\n",
       "channel_auditor_start_time     False\n",
       "channel_auditor_finish_time     True\n",
       "clerk_update_msg                True\n",
       "clerk_update_status            False\n",
       "clerk_update_time              False\n",
       "manager_id                     False\n",
       "manager_update_time            False\n",
       "manager_status                 False\n",
       "manager_memo                   False\n",
       "dtype: bool"
      ]
     },
     "execution_count": 25,
     "metadata": {},
     "output_type": "execute_result"
    }
   ],
   "source": [
    "data_audits_org.isnull().all()"
   ]
  },
  {
   "cell_type": "markdown",
   "metadata": {},
   "source": [
    "## data_results_org"
   ]
  },
  {
   "cell_type": "code",
   "execution_count": 26,
   "metadata": {},
   "outputs": [
    {
     "data": {
      "text/html": [
       "<div>\n",
       "<style scoped>\n",
       "    .dataframe tbody tr th:only-of-type {\n",
       "        vertical-align: middle;\n",
       "    }\n",
       "\n",
       "    .dataframe tbody tr th {\n",
       "        vertical-align: top;\n",
       "    }\n",
       "\n",
       "    .dataframe thead th {\n",
       "        text-align: right;\n",
       "    }\n",
       "</style>\n",
       "<table border=\"1\" class=\"dataframe\">\n",
       "  <thead>\n",
       "    <tr style=\"text-align: right;\">\n",
       "      <th></th>\n",
       "      <th>id</th>\n",
       "      <th>apply_id</th>\n",
       "      <th>final_status</th>\n",
       "      <th>update_time</th>\n",
       "      <th>result</th>\n",
       "    </tr>\n",
       "  </thead>\n",
       "  <tbody>\n",
       "    <tr>\n",
       "      <th>0</th>\n",
       "      <td>71015409</td>\n",
       "      <td>229442656</td>\n",
       "      <td>2</td>\n",
       "      <td>2017-10-01 00:00:23</td>\n",
       "      <td>#初审拒绝</td>\n",
       "    </tr>\n",
       "    <tr>\n",
       "      <th>1</th>\n",
       "      <td>71015410</td>\n",
       "      <td>229442683</td>\n",
       "      <td>2</td>\n",
       "      <td>2017-10-01 00:01:45</td>\n",
       "      <td>#初审拒绝</td>\n",
       "    </tr>\n",
       "    <tr>\n",
       "      <th>2</th>\n",
       "      <td>71015411</td>\n",
       "      <td>229442688</td>\n",
       "      <td>2</td>\n",
       "      <td>2017-10-01 00:01:52</td>\n",
       "      <td>#初审拒绝</td>\n",
       "    </tr>\n",
       "    <tr>\n",
       "      <th>3</th>\n",
       "      <td>71015412</td>\n",
       "      <td>229442737</td>\n",
       "      <td>2</td>\n",
       "      <td>2017-10-01 00:02:57</td>\n",
       "      <td>#初审拒绝</td>\n",
       "    </tr>\n",
       "    <tr>\n",
       "      <th>4</th>\n",
       "      <td>71015413</td>\n",
       "      <td>229442713</td>\n",
       "      <td>2</td>\n",
       "      <td>2017-10-01 00:03:02</td>\n",
       "      <td>#初审拒绝</td>\n",
       "    </tr>\n",
       "  </tbody>\n",
       "</table>\n",
       "</div>"
      ],
      "text/plain": [
       "         id   apply_id  final_status          update_time result\n",
       "0  71015409  229442656             2  2017-10-01 00:00:23  #初审拒绝\n",
       "1  71015410  229442683             2  2017-10-01 00:01:45  #初审拒绝\n",
       "2  71015411  229442688             2  2017-10-01 00:01:52  #初审拒绝\n",
       "3  71015412  229442737             2  2017-10-01 00:02:57  #初审拒绝\n",
       "4  71015413  229442713             2  2017-10-01 00:03:02  #初审拒绝"
      ]
     },
     "execution_count": 26,
     "metadata": {},
     "output_type": "execute_result"
    }
   ],
   "source": [
    "data_results_org.head()"
   ]
  },
  {
   "cell_type": "code",
   "execution_count": 27,
   "metadata": {},
   "outputs": [
    {
     "data": {
      "text/plain": [
       "id              False\n",
       "apply_id        False\n",
       "final_status    False\n",
       "update_time     False\n",
       "result          False\n",
       "dtype: bool"
      ]
     },
     "execution_count": 27,
     "metadata": {},
     "output_type": "execute_result"
    }
   ],
   "source": [
    "data_results_org.isnull().all()"
   ]
  },
  {
   "cell_type": "markdown",
   "metadata": {},
   "source": [
    "## data_orders_org"
   ]
  },
  {
   "cell_type": "code",
   "execution_count": 28,
   "metadata": {},
   "outputs": [
    {
     "data": {
      "text/html": [
       "<div>\n",
       "<style scoped>\n",
       "    .dataframe tbody tr th:only-of-type {\n",
       "        vertical-align: middle;\n",
       "    }\n",
       "\n",
       "    .dataframe tbody tr th {\n",
       "        vertical-align: top;\n",
       "    }\n",
       "\n",
       "    .dataframe thead th {\n",
       "        text-align: right;\n",
       "    }\n",
       "</style>\n",
       "<table border=\"1\" class=\"dataframe\">\n",
       "  <thead>\n",
       "    <tr style=\"text-align: right;\">\n",
       "      <th></th>\n",
       "      <th>id</th>\n",
       "      <th>apply_id</th>\n",
       "      <th>createtime</th>\n",
       "      <th>DELIVERY_STATUS</th>\n",
       "      <th>STATUS</th>\n",
       "      <th>DELIVERY</th>\n",
       "      <th>QUOTA</th>\n",
       "    </tr>\n",
       "  </thead>\n",
       "  <tbody>\n",
       "    <tr>\n",
       "      <th>0</th>\n",
       "      <td>28347580</td>\n",
       "      <td>29591144</td>\n",
       "      <td>2017-10-20 00:02:01</td>\n",
       "      <td>1</td>\n",
       "      <td>1</td>\n",
       "      <td>0</td>\n",
       "      <td>1472.0</td>\n",
       "    </tr>\n",
       "    <tr>\n",
       "      <th>1</th>\n",
       "      <td>28347581</td>\n",
       "      <td>29591147</td>\n",
       "      <td>2017-10-20 00:04:41</td>\n",
       "      <td>1</td>\n",
       "      <td>1</td>\n",
       "      <td>0</td>\n",
       "      <td>848.0</td>\n",
       "    </tr>\n",
       "    <tr>\n",
       "      <th>2</th>\n",
       "      <td>28347582</td>\n",
       "      <td>29591148</td>\n",
       "      <td>2017-10-20 00:04:43</td>\n",
       "      <td>1</td>\n",
       "      <td>5</td>\n",
       "      <td>0</td>\n",
       "      <td>720.0</td>\n",
       "    </tr>\n",
       "    <tr>\n",
       "      <th>3</th>\n",
       "      <td>28347583</td>\n",
       "      <td>29591149</td>\n",
       "      <td>2017-10-20 00:06:22</td>\n",
       "      <td>1</td>\n",
       "      <td>5</td>\n",
       "      <td>0</td>\n",
       "      <td>1170.0</td>\n",
       "    </tr>\n",
       "    <tr>\n",
       "      <th>4</th>\n",
       "      <td>28347584</td>\n",
       "      <td>29591153</td>\n",
       "      <td>2017-10-20 00:14:33</td>\n",
       "      <td>1</td>\n",
       "      <td>5</td>\n",
       "      <td>0</td>\n",
       "      <td>990.0</td>\n",
       "    </tr>\n",
       "  </tbody>\n",
       "</table>\n",
       "</div>"
      ],
      "text/plain": [
       "         id  apply_id           createtime  DELIVERY_STATUS  STATUS  DELIVERY  \\\n",
       "0  28347580  29591144  2017-10-20 00:02:01                1       1         0   \n",
       "1  28347581  29591147  2017-10-20 00:04:41                1       1         0   \n",
       "2  28347582  29591148  2017-10-20 00:04:43                1       5         0   \n",
       "3  28347583  29591149  2017-10-20 00:06:22                1       5         0   \n",
       "4  28347584  29591153  2017-10-20 00:14:33                1       5         0   \n",
       "\n",
       "    QUOTA  \n",
       "0  1472.0  \n",
       "1   848.0  \n",
       "2   720.0  \n",
       "3  1170.0  \n",
       "4   990.0  "
      ]
     },
     "execution_count": 28,
     "metadata": {},
     "output_type": "execute_result"
    }
   ],
   "source": [
    "data_orders_org.head()"
   ]
  },
  {
   "cell_type": "code",
   "execution_count": 29,
   "metadata": {},
   "outputs": [
    {
     "data": {
      "text/plain": [
       "id                 False\n",
       "apply_id           False\n",
       "createtime         False\n",
       "DELIVERY_STATUS    False\n",
       "STATUS             False\n",
       "DELIVERY           False\n",
       "QUOTA              False\n",
       "dtype: bool"
      ]
     },
     "execution_count": 29,
     "metadata": {},
     "output_type": "execute_result"
    }
   ],
   "source": [
    "data_orders_org.isnull().all()"
   ]
  },
  {
   "cell_type": "markdown",
   "metadata": {},
   "source": [
    "## data_order_details_org"
   ]
  },
  {
   "cell_type": "code",
   "execution_count": 30,
   "metadata": {},
   "outputs": [
    {
     "data": {
      "text/html": [
       "<div>\n",
       "<style scoped>\n",
       "    .dataframe tbody tr th:only-of-type {\n",
       "        vertical-align: middle;\n",
       "    }\n",
       "\n",
       "    .dataframe tbody tr th {\n",
       "        vertical-align: top;\n",
       "    }\n",
       "\n",
       "    .dataframe thead th {\n",
       "        text-align: right;\n",
       "    }\n",
       "</style>\n",
       "<table border=\"1\" class=\"dataframe\">\n",
       "  <thead>\n",
       "    <tr style=\"text-align: right;\">\n",
       "      <th></th>\n",
       "      <th>order_id</th>\n",
       "      <th>repayment</th>\n",
       "      <th>stage</th>\n",
       "      <th>STATUS</th>\n",
       "      <th>IS_OVERDUE</th>\n",
       "      <th>OVER_DAY</th>\n",
       "      <th>REPAYMENT_TIME</th>\n",
       "      <th>PAYMENT_DATE</th>\n",
       "      <th>CREATE_TIME</th>\n",
       "    </tr>\n",
       "  </thead>\n",
       "  <tbody>\n",
       "    <tr>\n",
       "      <th>0</th>\n",
       "      <td>28347580</td>\n",
       "      <td>1-1</td>\n",
       "      <td>1600.0</td>\n",
       "      <td>2</td>\n",
       "      <td>1</td>\n",
       "      <td>164.0</td>\n",
       "      <td>2017-11-09 00:00:00</td>\n",
       "      <td>NaN</td>\n",
       "      <td>2017-11-11 23:12:06</td>\n",
       "    </tr>\n",
       "    <tr>\n",
       "      <th>1</th>\n",
       "      <td>28347581</td>\n",
       "      <td>1-1</td>\n",
       "      <td>1000.0</td>\n",
       "      <td>2</td>\n",
       "      <td>1</td>\n",
       "      <td>177.0</td>\n",
       "      <td>2017-10-27 00:00:00</td>\n",
       "      <td>NaN</td>\n",
       "      <td>2017-11-11 23:12:06</td>\n",
       "    </tr>\n",
       "    <tr>\n",
       "      <th>2</th>\n",
       "      <td>28347582</td>\n",
       "      <td>1-1</td>\n",
       "      <td>900.0</td>\n",
       "      <td>1</td>\n",
       "      <td>1</td>\n",
       "      <td>1.0</td>\n",
       "      <td>2017-11-04 00:00:00</td>\n",
       "      <td>2017-11-05 22:37:24</td>\n",
       "      <td>2017-11-11 23:12:06</td>\n",
       "    </tr>\n",
       "    <tr>\n",
       "      <th>3</th>\n",
       "      <td>28347583</td>\n",
       "      <td>1-1</td>\n",
       "      <td>1300.0</td>\n",
       "      <td>1</td>\n",
       "      <td>1</td>\n",
       "      <td>3.0</td>\n",
       "      <td>2017-11-09 00:00:00</td>\n",
       "      <td>2017-11-12 13:12:50</td>\n",
       "      <td>2017-11-11 23:12:06</td>\n",
       "    </tr>\n",
       "    <tr>\n",
       "      <th>4</th>\n",
       "      <td>28347584</td>\n",
       "      <td>1-1</td>\n",
       "      <td>1100.0</td>\n",
       "      <td>1</td>\n",
       "      <td>1</td>\n",
       "      <td>3.0</td>\n",
       "      <td>2017-11-09 00:00:00</td>\n",
       "      <td>2017-11-12 17:28:39</td>\n",
       "      <td>2017-11-11 23:12:06</td>\n",
       "    </tr>\n",
       "  </tbody>\n",
       "</table>\n",
       "</div>"
      ],
      "text/plain": [
       "   order_id repayment   stage  STATUS  IS_OVERDUE  OVER_DAY  \\\n",
       "0  28347580       1-1  1600.0       2           1     164.0   \n",
       "1  28347581       1-1  1000.0       2           1     177.0   \n",
       "2  28347582       1-1   900.0       1           1       1.0   \n",
       "3  28347583       1-1  1300.0       1           1       3.0   \n",
       "4  28347584       1-1  1100.0       1           1       3.0   \n",
       "\n",
       "        REPAYMENT_TIME         PAYMENT_DATE          CREATE_TIME  \n",
       "0  2017-11-09 00:00:00                  NaN  2017-11-11 23:12:06  \n",
       "1  2017-10-27 00:00:00                  NaN  2017-11-11 23:12:06  \n",
       "2  2017-11-04 00:00:00  2017-11-05 22:37:24  2017-11-11 23:12:06  \n",
       "3  2017-11-09 00:00:00  2017-11-12 13:12:50  2017-11-11 23:12:06  \n",
       "4  2017-11-09 00:00:00  2017-11-12 17:28:39  2017-11-11 23:12:06  "
      ]
     },
     "execution_count": 30,
     "metadata": {},
     "output_type": "execute_result"
    }
   ],
   "source": [
    "data_order_details_org.head()"
   ]
  },
  {
   "cell_type": "code",
   "execution_count": 31,
   "metadata": {},
   "outputs": [
    {
     "data": {
      "text/plain": [
       "order_id          False\n",
       "repayment         False\n",
       "stage             False\n",
       "STATUS            False\n",
       "IS_OVERDUE        False\n",
       "OVER_DAY          False\n",
       "REPAYMENT_TIME    False\n",
       "PAYMENT_DATE      False\n",
       "CREATE_TIME       False\n",
       "dtype: bool"
      ]
     },
     "execution_count": 31,
     "metadata": {},
     "output_type": "execute_result"
    }
   ],
   "source": [
    "data_order_details_org.isnull().all()"
   ]
  },
  {
   "cell_type": "markdown",
   "metadata": {},
   "source": [
    "# 业务数据分析"
   ]
  },
  {
   "cell_type": "markdown",
   "metadata": {},
   "source": [
    "## 业务发展情况"
   ]
  },
  {
   "cell_type": "markdown",
   "metadata": {},
   "source": [
    "### 申请业务总量及所占比例"
   ]
  },
  {
   "cell_type": "code",
   "execution_count": 32,
   "metadata": {},
   "outputs": [
    {
     "data": {
      "text/plain": [
       "array([0, 3, 4, 1], dtype=int64)"
      ]
     },
     "execution_count": 32,
     "metadata": {},
     "output_type": "execute_result"
    }
   ],
   "source": [
    "# 有哪些业务\n",
    "data_applys_org['consume_goods_type'].unique()"
   ]
  },
  {
   "cell_type": "code",
   "execution_count": 33,
   "metadata": {},
   "outputs": [
    {
     "data": {
      "text/plain": [
       "3    142098\n",
       "0    135139\n",
       "1     78010\n",
       "Name: consume_goods_type, dtype: int64"
      ]
     },
     "execution_count": 33,
     "metadata": {},
     "output_type": "execute_result"
    }
   ],
   "source": [
    "data_buiness_group = data_applys_org['consume_goods_type'].replace(4, 3).value_counts()\n",
    "data_buiness_group"
   ]
  },
  {
   "cell_type": "code",
   "execution_count": 34,
   "metadata": {},
   "outputs": [
    {
     "data": {
      "image/png": "[encoded data removed]",
      "text/plain": [
       "<Figure size 864x432 with 2 Axes>"
      ]
     },
     "metadata": {
      "needs_background": "light"
     },
     "output_type": "display_data"
    }
   ],
   "source": [
    "# 业务量\n",
    "x_name = np.array(['小额贷', '消费贷', '现金贷'])\n",
    "y_data = data_buiness_group.values\n",
    "\n",
    "plt.figure(1, figsize=(12,6))\n",
    "ax1 = plt.subplot(1,2,1)\n",
    "ax2 = plt.subplot(1,2,2)\n",
    "\n",
    "plt.sca(ax1)\n",
    "ax1.spines['right'].set_visible(False)\n",
    "ax1.spines['top'].set_visible(False)\n",
    "ax1.spines['bottom'].set_visible(False)\n",
    "ax1.spines['left'].set_visible(False)\n",
    "\n",
    "\n",
    "plt.bar(x_name, y_data, color=['red', 'orange', 'blue'], width=0.2)\n",
    "\n",
    "for x, y in zip(np.arange(len(x_name)), y_data):\n",
    "    plt.text(x, y, y, ha='center', va='bottom', fontsize=12)\n",
    "\n",
    "    \n",
    "plt.title('不同业务的业务总量', fontsize=12)\n",
    "plt.xlabel('业务形式', fontsize=12) \n",
    "plt.yticks([])\n",
    "###################################绘制子2图\n",
    "plt.sca(ax2)\n",
    "# 业务占比\n",
    "explode = (0.05, 0, 0)\n",
    "plt.pie(y_data, explode=explode, labels=x_name, colors=['red', 'orange', 'blue'], autopct='%1.2f%%', shadow=False, startangle = 0)\n",
    "\n",
    "plt.legend(loc='String or Number', bbox_to_anchor=(0.9, 0.9))\n",
    "plt.title('不同业务量所占比例', fontsize=12)\n",
    "plt.tight_layout(8)\n",
    "plt.savefig('./1.jpg')\n",
    "plt.show()"
   ]
  },
  {
   "cell_type": "markdown",
   "metadata": {},
   "source": [
    "### 按月统计申请业务量，分析变化规律"
   ]
  },
  {
   "cell_type": "code",
   "execution_count": 35,
   "metadata": {},
   "outputs": [],
   "source": [
    "# 切割取出月份\n",
    "def get_month(x):\n",
    "    return x[5:7]"
   ]
  },
  {
   "cell_type": "code",
   "execution_count": 36,
   "metadata": {},
   "outputs": [
    {
     "data": {
      "text/plain": [
       "10    143323\n",
       "11    127346\n",
       "12     84578\n",
       "Name: apply_time, dtype: int64"
      ]
     },
     "execution_count": 36,
     "metadata": {},
     "output_type": "execute_result"
    }
   ],
   "source": [
    "data_applys_month = data_applys_org['apply_time'].apply(get_month)\n",
    "data_applys_month.value_counts()"
   ]
  },
  {
   "cell_type": "code",
   "execution_count": 37,
   "metadata": {},
   "outputs": [],
   "source": [
    "data_applys_org['month'] = data_applys_month"
   ]
  },
  {
   "cell_type": "code",
   "execution_count": 38,
   "metadata": {},
   "outputs": [
    {
     "data": {
      "text/plain": [
       "month\n",
       "10    55450\n",
       "11    42671\n",
       "12    37018\n",
       "dtype: int64"
      ]
     },
     "execution_count": 38,
     "metadata": {},
     "output_type": "execute_result"
    }
   ],
   "source": [
    "data_applys_type_0 = data_applys_org[data_applys_org['consume_goods_type'] == 0]\n",
    "type0 = data_applys_type_0.groupby('month')\n",
    "type0.size()"
   ]
  },
  {
   "cell_type": "code",
   "execution_count": 39,
   "metadata": {},
   "outputs": [
    {
     "data": {
      "text/plain": [
       "month\n",
       "10    26537\n",
       "11    29417\n",
       "12    22056\n",
       "dtype: int64"
      ]
     },
     "execution_count": 39,
     "metadata": {},
     "output_type": "execute_result"
    }
   ],
   "source": [
    "data_applys_type_1 = data_applys_org[data_applys_org['consume_goods_type'] == 1]\n",
    "type1 = data_applys_type_1.groupby('month')\n",
    "type1.size()"
   ]
  },
  {
   "cell_type": "code",
   "execution_count": 40,
   "metadata": {},
   "outputs": [
    {
     "data": {
      "text/plain": [
       "month\n",
       "10    61336\n",
       "11    55258\n",
       "12    25504\n",
       "dtype: int64"
      ]
     },
     "execution_count": 40,
     "metadata": {},
     "output_type": "execute_result"
    }
   ],
   "source": [
    "data_applys_type_34 = data_applys_org[(data_applys_org['consume_goods_type'] == 3) | (data_applys_org['consume_goods_type'] == 4)]\n",
    "type34 = data_applys_type_34.groupby('month')\n",
    "type34.size()"
   ]
  },
  {
   "cell_type": "code",
   "execution_count": 81,
   "metadata": {},
   "outputs": [
    {
     "data": {
      "image/png": "[encoded data removed]",
      "text/plain": [
       "<Figure size 1080x360 with 3 Axes>"
      ]
     },
     "metadata": {
      "needs_background": "light"
     },
     "output_type": "display_data"
    }
   ],
   "source": [
    "# 按月份作图\n",
    "\n",
    "plt.figure(1, figsize=(15,5))\n",
    "ax1 = plt.subplot(1,3,1)\n",
    "ax2 = plt.subplot(1,3,2)\n",
    "ax3 = plt.subplot(1,3,3)\n",
    "\n",
    "\n",
    "###########################消费贷#############################\n",
    "plt.sca(ax1)\n",
    "ax1.spines['right'].set_visible(False)\n",
    "ax1.spines['top'].set_visible(False)\n",
    "ax1.spines['bottom'].set_visible(False)\n",
    "ax1.spines['left'].set_visible(False)\n",
    "\n",
    "plt.bar(type0.size().index, type0.size().values, color=['red', 'tomato', 'lightsalmon'], width=0.3,)\n",
    "plt.yticks([])\n",
    "for x, y in zip(np.arange(len(type0.size())), type0.size().values):\n",
    "    plt.text(x+0.1, y+1000, y, ha='center', va='bottom', fontsize=12)\n",
    "    \n",
    "plt.plot(type0.size().index, type0.size().values, 'black')\n",
    "plt.xlabel('消费贷', fontsize=12) \n",
    "\n",
    "\n",
    "\n",
    "\n",
    "############################现金贷##############################\n",
    "plt.sca(ax2)\n",
    "ax2.spines['right'].set_visible(False)\n",
    "ax2.spines['top'].set_visible(False)\n",
    "ax2.spines['bottom'].set_visible(False)\n",
    "ax2.spines['left'].set_visible(False)\n",
    "\n",
    "plt.bar(type1.size().index, type1.size().values, color=['gold', 'orange', 'khaki'], width=0.3,)\n",
    "plt.yticks([])\n",
    "\n",
    "for x, y in zip(np.arange(len(type1.size())), type1.size().values):\n",
    "    plt.text(x+0.1, y+1000, y, ha='center', va='bottom', fontsize=12)\n",
    "    \n",
    "plt.plot(type1.size().index, type1.size().values, 'black')\n",
    "plt.xlabel('现金贷', fontsize=12) \n",
    "\n",
    "\n",
    "\n",
    "\n",
    "\n",
    "########################小额贷##########################\n",
    "plt.sca(ax3)\n",
    "ax3.spines['right'].set_visible(False)\n",
    "ax3.spines['top'].set_visible(False)\n",
    "ax3.spines['bottom'].set_visible(False)\n",
    "ax3.spines['left'].set_visible(False)\n",
    "\n",
    "plt.bar(type34.size().index, type34.size().values, color=['blue', 'deepskyblue', 'cornflowerblue'], width=0.3,)\n",
    "plt.yticks([])\n",
    "\n",
    "for x, y in zip(np.arange(len(type34.size())), type34.size().values):\n",
    "    plt.text(x+0.1, y+1000, y, ha='center', va='bottom', fontsize=12)\n",
    "    \n",
    "plt.plot(type34.size().index, type34.size().values, 'black')\n",
    "plt.xlabel('小额贷', fontsize=12) \n",
    "\n",
    "plt.savefig('./test2.jpg')\n",
    "plt.show()"
   ]
  },
  {
   "cell_type": "markdown",
   "metadata": {},
   "source": [
    "## 人群分布"
   ]
  },
  {
   "cell_type": "code",
   "execution_count": 42,
   "metadata": {},
   "outputs": [
    {
     "data": {
      "text/plain": [
       "False    364689\n",
       "Name: idcard, dtype: int64"
      ]
     },
     "execution_count": 42,
     "metadata": {},
     "output_type": "execute_result"
    }
   ],
   "source": [
    "# 数据检查\n",
    "data_users_org['idcard'].isnull().value_counts()"
   ]
  },
  {
   "cell_type": "code",
   "execution_count": 43,
   "metadata": {},
   "outputs": [
    {
     "data": {
      "text/html": [
       "<div>\n",
       "<style scoped>\n",
       "    .dataframe tbody tr th:only-of-type {\n",
       "        vertical-align: middle;\n",
       "    }\n",
       "\n",
       "    .dataframe tbody tr th {\n",
       "        vertical-align: top;\n",
       "    }\n",
       "\n",
       "    .dataframe thead th {\n",
       "        text-align: right;\n",
       "    }\n",
       "</style>\n",
       "<table border=\"1\" class=\"dataframe\">\n",
       "  <thead>\n",
       "    <tr style=\"text-align: right;\">\n",
       "      <th></th>\n",
       "      <th>apply_id</th>\n",
       "      <th>customer_id</th>\n",
       "      <th>name</th>\n",
       "      <th>phone</th>\n",
       "      <th>grant_operator_phone</th>\n",
       "      <th>idcard</th>\n",
       "      <th>customer_type</th>\n",
       "      <th>is_real_name</th>\n",
       "      <th>month_income</th>\n",
       "      <th>loan_intent</th>\n",
       "      <th>...</th>\n",
       "      <th>locate_longitude</th>\n",
       "      <th>authorized_contacts</th>\n",
       "      <th>authorized_fund</th>\n",
       "      <th>authorized_jd</th>\n",
       "      <th>authorized_operator</th>\n",
       "      <th>authorized_qq</th>\n",
       "      <th>authorized_sms</th>\n",
       "      <th>authorized_social_security</th>\n",
       "      <th>authorized_taobao</th>\n",
       "      <th>authorized_xuexin</th>\n",
       "    </tr>\n",
       "  </thead>\n",
       "  <tbody>\n",
       "    <tr>\n",
       "      <th>0</th>\n",
       "      <td>228679091</td>\n",
       "      <td>528424289</td>\n",
       "      <td>刘*</td>\n",
       "      <td>151****1853</td>\n",
       "      <td>151****1853</td>\n",
       "      <td>4*****1990****2238</td>\n",
       "      <td>2</td>\n",
       "      <td>0</td>\n",
       "      <td>0</td>\n",
       "      <td>NaN</td>\n",
       "      <td>...</td>\n",
       "      <td>0.000</td>\n",
       "      <td>1</td>\n",
       "      <td>0</td>\n",
       "      <td>0</td>\n",
       "      <td>1</td>\n",
       "      <td>0</td>\n",
       "      <td>1</td>\n",
       "      <td>0</td>\n",
       "      <td>0</td>\n",
       "      <td>0</td>\n",
       "    </tr>\n",
       "    <tr>\n",
       "      <th>1</th>\n",
       "      <td>229442713</td>\n",
       "      <td>529099188</td>\n",
       "      <td>莫*</td>\n",
       "      <td>153****4251</td>\n",
       "      <td>153****4251</td>\n",
       "      <td>4*****1995****5717</td>\n",
       "      <td>2</td>\n",
       "      <td>0</td>\n",
       "      <td>0</td>\n",
       "      <td>NaN</td>\n",
       "      <td>...</td>\n",
       "      <td>113.611</td>\n",
       "      <td>0</td>\n",
       "      <td>0</td>\n",
       "      <td>0</td>\n",
       "      <td>1</td>\n",
       "      <td>0</td>\n",
       "      <td>1</td>\n",
       "      <td>0</td>\n",
       "      <td>0</td>\n",
       "      <td>0</td>\n",
       "    </tr>\n",
       "    <tr>\n",
       "      <th>2</th>\n",
       "      <td>229442737</td>\n",
       "      <td>529100126</td>\n",
       "      <td>杨*</td>\n",
       "      <td>132****2874</td>\n",
       "      <td>132****2874</td>\n",
       "      <td>5*****1999****0915</td>\n",
       "      <td>2</td>\n",
       "      <td>0</td>\n",
       "      <td>0</td>\n",
       "      <td>NaN</td>\n",
       "      <td>...</td>\n",
       "      <td>104.220</td>\n",
       "      <td>0</td>\n",
       "      <td>0</td>\n",
       "      <td>0</td>\n",
       "      <td>1</td>\n",
       "      <td>0</td>\n",
       "      <td>1</td>\n",
       "      <td>0</td>\n",
       "      <td>0</td>\n",
       "      <td>0</td>\n",
       "    </tr>\n",
       "    <tr>\n",
       "      <th>3</th>\n",
       "      <td>229442740</td>\n",
       "      <td>528963792</td>\n",
       "      <td>徐*</td>\n",
       "      <td>158****4115</td>\n",
       "      <td>158****4115</td>\n",
       "      <td>5*****1994****8478</td>\n",
       "      <td>2</td>\n",
       "      <td>0</td>\n",
       "      <td>0</td>\n",
       "      <td>NaN</td>\n",
       "      <td>...</td>\n",
       "      <td>105.566</td>\n",
       "      <td>0</td>\n",
       "      <td>0</td>\n",
       "      <td>0</td>\n",
       "      <td>1</td>\n",
       "      <td>0</td>\n",
       "      <td>1</td>\n",
       "      <td>0</td>\n",
       "      <td>0</td>\n",
       "      <td>0</td>\n",
       "    </tr>\n",
       "    <tr>\n",
       "      <th>4</th>\n",
       "      <td>229442745</td>\n",
       "      <td>529101303</td>\n",
       "      <td>吴*</td>\n",
       "      <td>134****7272</td>\n",
       "      <td>134****7272</td>\n",
       "      <td>4*****1995****5619</td>\n",
       "      <td>2</td>\n",
       "      <td>0</td>\n",
       "      <td>0</td>\n",
       "      <td>NaN</td>\n",
       "      <td>...</td>\n",
       "      <td>114.384</td>\n",
       "      <td>0</td>\n",
       "      <td>0</td>\n",
       "      <td>1***</td>\n",
       "      <td>1</td>\n",
       "      <td>0</td>\n",
       "      <td>1</td>\n",
       "      <td>0</td>\n",
       "      <td>0</td>\n",
       "      <td>1***</td>\n",
       "    </tr>\n",
       "  </tbody>\n",
       "</table>\n",
       "<p>5 rows × 28 columns</p>\n",
       "</div>"
      ],
      "text/plain": [
       "    apply_id  customer_id name        phone grant_operator_phone  \\\n",
       "0  228679091    528424289   刘*  151****1853          151****1853   \n",
       "1  229442713    529099188   莫*  153****4251          153****4251   \n",
       "2  229442737    529100126   杨*  132****2874          132****2874   \n",
       "3  229442740    528963792   徐*  158****4115          158****4115   \n",
       "4  229442745    529101303   吴*  134****7272          134****7272   \n",
       "\n",
       "               idcard  customer_type  is_real_name  month_income loan_intent  \\\n",
       "0  4*****1990****2238              2             0             0         NaN   \n",
       "1  4*****1995****5717              2             0             0         NaN   \n",
       "2  5*****1999****0915              2             0             0         NaN   \n",
       "3  5*****1994****8478              2             0             0         NaN   \n",
       "4  4*****1995****5619              2             0             0         NaN   \n",
       "\n",
       "         ...         locate_longitude authorized_contacts authorized_fund  \\\n",
       "0        ...                    0.000                   1               0   \n",
       "1        ...                  113.611                   0               0   \n",
       "2        ...                  104.220                   0               0   \n",
       "3        ...                  105.566                   0               0   \n",
       "4        ...                  114.384                   0               0   \n",
       "\n",
       "  authorized_jd authorized_operator authorized_qq authorized_sms  \\\n",
       "0             0                   1             0              1   \n",
       "1             0                   1             0              1   \n",
       "2             0                   1             0              1   \n",
       "3             0                   1             0              1   \n",
       "4          1***                   1             0              1   \n",
       "\n",
       "   authorized_social_security  authorized_taobao  authorized_xuexin  \n",
       "0                           0                  0                  0  \n",
       "1                           0                  0                  0  \n",
       "2                           0                  0                  0  \n",
       "3                           0                  0                  0  \n",
       "4                           0                  0               1***  \n",
       "\n",
       "[5 rows x 28 columns]"
      ]
     },
     "execution_count": 43,
     "metadata": {},
     "output_type": "execute_result"
    }
   ],
   "source": [
    "data_users_org.head()"
   ]
  },
  {
   "cell_type": "code",
   "execution_count": 44,
   "metadata": {},
   "outputs": [
    {
     "data": {
      "text/plain": [
       "Index(['apply_id', 'customer_id', 'name', 'phone', 'grant_operator_phone',\n",
       "       'idcard', 'customer_type', 'is_real_name', 'month_income',\n",
       "       'loan_intent', 'company_city', 'autograph_url', 'idcard_head_image_url',\n",
       "       'idcard_tail_image_url', 'idcard_handheld_image_url', 'other_image_url',\n",
       "       'job', 'locate_latitude', 'locate_longitude', 'authorized_contacts',\n",
       "       'authorized_fund', 'authorized_jd', 'authorized_operator',\n",
       "       'authorized_qq', 'authorized_sms', 'authorized_social_security',\n",
       "       'authorized_taobao', 'authorized_xuexin'],\n",
       "      dtype='object')"
      ]
     },
     "execution_count": 44,
     "metadata": {},
     "output_type": "execute_result"
    }
   ],
   "source": [
    "data_users_org.columns"
   ]
  },
  {
   "cell_type": "markdown",
   "metadata": {},
   "source": [
    "### 年龄分布"
   ]
  },
  {
   "cell_type": "code",
   "execution_count": 45,
   "metadata": {},
   "outputs": [],
   "source": [
    "# 根据身份证获取年龄\n",
    "def get_age(idcard):\n",
    "    year = idcard[6:10]\n",
    "    if '*' in year:\n",
    "        age = np.random.choice(range(18, 100), 1)[0]\n",
    "    else:\n",
    "        age = 2019 - int(year)\n",
    "        if age not in np.arange(0, 101):\n",
    "            age = np.random.choice(range(18, 100), 1)[0]\n",
    "    return age"
   ]
  },
  {
   "cell_type": "code",
   "execution_count": 46,
   "metadata": {},
   "outputs": [
    {
     "data": {
      "text/plain": [
       "Int64Index([29, 24, 27, 25, 23, 26, 30, 28, 22, 21, 31, 32, 33, 20, 34, 35, 37,\n",
       "            36, 38, 39, 40, 41, 42, 43, 44, 45, 46, 47, 48, 49, 50, 51, 52, 53,\n",
       "            54, 55, 56, 57, 19, 58, 18, 59, 60, 61, 62, 66, 67, 63, 64, 77, 87,\n",
       "            94, 95, 65, 79, 82, 96],\n",
       "           dtype='int64')"
      ]
     },
     "execution_count": 46,
     "metadata": {},
     "output_type": "execute_result"
    }
   ],
   "source": [
    "user_ages = data_users_org['idcard'].map(get_age)\n",
    "user_ages.value_counts().index"
   ]
  },
  {
   "cell_type": "code",
   "execution_count": 47,
   "metadata": {},
   "outputs": [
    {
     "data": {
      "text/plain": [
       "(0, 20]       11728\n",
       "(20, 25]     104337\n",
       "(25, 30]     111784\n",
       "(30, 35]      65854\n",
       "(35, 40]      33948\n",
       "(40, 50]      31834\n",
       "(50, 100]      5204\n",
       "Name: idcard, dtype: int64"
      ]
     },
     "execution_count": 47,
     "metadata": {},
     "output_type": "execute_result"
    }
   ],
   "source": [
    "# 对年龄进行分箱操作\n",
    "bins = [0, 20, 25, 30, 35, 40, 50, 100]\n",
    "user_bins = pd.cut(user_ages, bins)\n",
    "user_ages_bins = user_bins.groupby(user_bins.values).size()\n",
    "user_ages_bins"
   ]
  },
  {
   "cell_type": "code",
   "execution_count": 48,
   "metadata": {},
   "outputs": [
    {
     "data": {
      "text/plain": [
       "['(0, 20]',\n",
       " '(20, 25]',\n",
       " '(25, 30]',\n",
       " '(30, 35]',\n",
       " '(35, 40]',\n",
       " '(40, 50]',\n",
       " '(50, 100]']"
      ]
     },
     "execution_count": 48,
     "metadata": {},
     "output_type": "execute_result"
    }
   ],
   "source": [
    "age_lables = [str(i) for i in user_ages_bins.index]\n",
    "age_lables"
   ]
  },
  {
   "cell_type": "code",
   "execution_count": 82,
   "metadata": {},
   "outputs": [
    {
     "data": {
      "image/png": "[encoded data removed]",
      "text/plain": [
       "<Figure size 1080x576 with 2 Axes>"
      ]
     },
     "metadata": {
      "needs_background": "light"
     },
     "output_type": "display_data"
    }
   ],
   "source": [
    "plt.figure(1, figsize=(15,8))\n",
    "ax1 = plt.subplot(1,2,1)\n",
    "ax2 = plt.subplot(1,2,2)\n",
    "\n",
    "plt.sca(ax1)\n",
    "ax1.spines['right'].set_visible(False)\n",
    "ax1.spines['top'].set_visible(False)\n",
    "ax1.spines['bottom'].set_visible(False)\n",
    "ax1.spines['left'].set_visible(False)\n",
    "\n",
    "\n",
    "plt.bar(age_lables, height=user_ages_bins.values, \n",
    "        color = ['hotpink', 'darkviolet', 'purple', 'mediumorchid', 'violet', 'plum', 'thistle'], width=0.3)\n",
    "\n",
    "for x, y in zip(np.arange(len(age_lables)), user_ages_bins.values):\n",
    "    plt.text(x, y, y, ha='center', va='bottom', fontsize=12)\n",
    "\n",
    "    \n",
    "plt.title('年龄分布', fontsize=12)\n",
    "plt.xlabel('年龄段', fontsize=12) \n",
    "plt.yticks([])\n",
    "###################################绘制子2图\n",
    "plt.sca(ax2)\n",
    "# 业务占比\n",
    "explode = (0, 0, 0.05, 0, 0, 0, 0)\n",
    "plt.pie(user_ages_bins.values, explode=explode, labels=age_lables, \n",
    "        colors=['hotpink', 'darkviolet', 'purple', 'mediumorchid', 'violet', 'plum', 'thistle'], \n",
    "        autopct='%1.2f%%', shadow=False, startangle = 0)\n",
    "\n",
    "plt.legend(loc='String or Number', bbox_to_anchor=(1, 1.2))\n",
    "plt.title('不同年龄段所占比例', fontsize=12)\n",
    "plt.tight_layout(8)\n",
    "\n",
    "plt.savefig('./test3.jpg')\n",
    "\n",
    "plt.show()"
   ]
  },
  {
   "cell_type": "markdown",
   "metadata": {},
   "source": [
    "### 性别"
   ]
  },
  {
   "cell_type": "code",
   "execution_count": 50,
   "metadata": {},
   "outputs": [],
   "source": [
    "# 根据身份证获取性别\n",
    "def get_sex(idcard):\n",
    "    sex = ''\n",
    "    if '*' in idcard[-1]:\n",
    "        return 'female'\n",
    "    elif idcard[-1] == 'X'or idcard[-1] == 'x':\n",
    "        sex = 'female'\n",
    "    elif int(idcard[-1]) % 2 == 0:\n",
    "        sex = 'female'\n",
    "    else:\n",
    "        sex = 'male'\n",
    "    return sex"
   ]
  },
  {
   "cell_type": "code",
   "execution_count": 51,
   "metadata": {},
   "outputs": [
    {
     "data": {
      "text/plain": [
       "female    196239\n",
       "male      168450\n",
       "Name: idcard, dtype: int64"
      ]
     },
     "execution_count": 51,
     "metadata": {},
     "output_type": "execute_result"
    }
   ],
   "source": [
    "user_sex = data_users_org['idcard'].apply(get_sex).value_counts()\n",
    "user_sex"
   ]
  },
  {
   "cell_type": "code",
   "execution_count": 83,
   "metadata": {},
   "outputs": [
    {
     "data": {
      "image/png": "[encoded data removed]",
      "text/plain": [
       "<Figure size 720x360 with 2 Axes>"
      ]
     },
     "metadata": {
      "needs_background": "light"
     },
     "output_type": "display_data"
    }
   ],
   "source": [
    "plt.figure(1, figsize=(10,5))\n",
    "ax1 = plt.subplot(1,2,1)\n",
    "ax2 = plt.subplot(1,2,2)\n",
    "\n",
    "plt.sca(ax1)\n",
    "ax1.spines['right'].set_visible(False)\n",
    "ax1.spines['top'].set_visible(False)\n",
    "ax1.spines['bottom'].set_visible(False)\n",
    "ax1.spines['left'].set_visible(False)\n",
    "\n",
    "plt.bar(user_sex.index, user_sex.values, color=['red', 'blue'], width=0.3)\n",
    "\n",
    "for x, y in zip(np.arange(len(user_sex.index)), user_sex.values):\n",
    "    plt.text(x, y, y, ha='center', va='bottom', fontsize=12)\n",
    "\n",
    "# ax1.set_xticklabels(user_sex.index, rotation= 0)\n",
    "plt.title('性别分布', fontsize=12)\n",
    "plt.xlabel('性别', fontsize=12) \n",
    "plt.yticks([])\n",
    "\n",
    "\n",
    "plt.sca(ax2)\n",
    "ax2.spines['right'].set_visible(False)\n",
    "ax2.spines['top'].set_visible(False)\n",
    "ax2.spines['bottom'].set_visible(False)\n",
    "ax2.spines['left'].set_visible(False)\n",
    "explode = (0, 0.05)\n",
    "plt.pie(user_sex.values, explode=explode, labels=user_sex.index, \n",
    "        colors=['red', 'blue'], \n",
    "        autopct='%1.2f%%', shadow=False, startangle = 0)\n",
    "\n",
    "plt.legend(loc='String or Number', bbox_to_anchor=(0.9, 0.9))\n",
    "plt.title('不同性别所占比例', fontsize=12)\n",
    "plt.tight_layout(8)\n",
    "\n",
    "plt.savefig('./test4.jpg')\n",
    "plt.show()"
   ]
  },
  {
   "cell_type": "markdown",
   "metadata": {},
   "source": [
    "### 职业"
   ]
  },
  {
   "cell_type": "code",
   "execution_count": 91,
   "metadata": {},
   "outputs": [
    {
     "data": {
      "image/png": "[encoded data removed]",
      "text/plain": [
       "<Figure size 576x432 with 1 Axes>"
      ]
     },
     "metadata": {
      "needs_background": "light"
     },
     "output_type": "display_data"
    }
   ],
   "source": [
    "data_users_pro = data_users_org['job'].value_counts()[:10]\n",
    "plt.figure(1, figsize=(8,6))\n",
    "ax1 = plt.subplot(1,1,1)\n",
    "\n",
    "plt.sca(ax1)\n",
    "ax1.spines['right'].set_visible(False)\n",
    "ax1.spines['top'].set_visible(False)\n",
    "ax1.spines['bottom'].set_visible(False)\n",
    "ax1.spines['left'].set_visible(False)\n",
    "\n",
    "\n",
    "data_users_pro.plot(kind='bar', width=0.3)\n",
    "\n",
    "for x, y in zip(np.arange(len(data_users_pro)), data_users_pro.values):\n",
    "    plt.text(x, y, y, ha='center', va='bottom', fontsize=12)\n",
    "\n",
    "    \n",
    "plt.title('职业分布', fontsize=12)\n",
    "plt.xlabel('职业', fontsize=12) \n",
    "plt.yticks([])\n",
    "\n",
    "plt.savefig('./test5.jpg')\n",
    "\n",
    "plt.show()"
   ]
  },
  {
   "cell_type": "markdown",
   "metadata": {},
   "source": [
    "## 渠道分析"
   ]
  },
  {
   "cell_type": "code",
   "execution_count": 54,
   "metadata": {},
   "outputs": [
    {
     "data": {
      "text/plain": [
       "441317571     38271\n",
       "1172475075    26468\n",
       "169703210     23191\n",
       "419544156      9148\n",
       "1996335847     4396\n",
       "683465192      4043\n",
       "56466223       2573\n",
       "1663210481     2363\n",
       "1227060663     2182\n",
       "554739494      2008\n",
       "Name: channel_id, dtype: int64"
      ]
     },
     "execution_count": 54,
     "metadata": {},
     "output_type": "execute_result"
    }
   ],
   "source": [
    "data_applys_org[data_applys_org['consume_goods_type'] == 0]['channel_id'].value_counts()[:10]"
   ]
  },
  {
   "cell_type": "code",
   "execution_count": 55,
   "metadata": {},
   "outputs": [
    {
     "data": {
      "text/plain": [
       "1080747328    78010\n",
       "Name: channel_id, dtype: int64"
      ]
     },
     "execution_count": 55,
     "metadata": {},
     "output_type": "execute_result"
    }
   ],
   "source": [
    "data_applys_org[data_applys_org['consume_goods_type'] == 1]['channel_id'].value_counts()"
   ]
  },
  {
   "cell_type": "code",
   "execution_count": 56,
   "metadata": {},
   "outputs": [
    {
     "data": {
      "text/plain": [
       "2114879934    76500\n",
       "1080747328    64596\n",
       "32255075       1002\n",
       "Name: channel_id, dtype: int64"
      ]
     },
     "execution_count": 56,
     "metadata": {},
     "output_type": "execute_result"
    }
   ],
   "source": [
    "data_applys_org[(data_applys_org['consume_goods_type'] == 3) | (data_applys_org['consume_goods_type'] == 4)]['channel_id'].value_counts()"
   ]
  },
  {
   "cell_type": "markdown",
   "metadata": {},
   "source": [
    "# 审核分析"
   ]
  },
  {
   "cell_type": "markdown",
   "metadata": {},
   "source": [
    "##  不同业务的时效分析"
   ]
  },
  {
   "cell_type": "code",
   "execution_count": 57,
   "metadata": {},
   "outputs": [],
   "source": [
    "data_applys_audits=pd.merge(data_applys_org[['apply_id','apply_time','consume_goods_type']].dropna(),\n",
    "                            data_audits_org[['apply_id','clerk_update_time']].dropna(),on='apply_id',how='inner')"
   ]
  },
  {
   "cell_type": "code",
   "execution_count": 58,
   "metadata": {},
   "outputs": [
    {
     "data": {
      "text/html": [
       "<div>\n",
       "<style scoped>\n",
       "    .dataframe tbody tr th:only-of-type {\n",
       "        vertical-align: middle;\n",
       "    }\n",
       "\n",
       "    .dataframe tbody tr th {\n",
       "        vertical-align: top;\n",
       "    }\n",
       "\n",
       "    .dataframe thead th {\n",
       "        text-align: right;\n",
       "    }\n",
       "</style>\n",
       "<table border=\"1\" class=\"dataframe\">\n",
       "  <thead>\n",
       "    <tr style=\"text-align: right;\">\n",
       "      <th></th>\n",
       "      <th>apply_id</th>\n",
       "      <th>apply_time</th>\n",
       "      <th>consume_goods_type</th>\n",
       "      <th>clerk_update_time</th>\n",
       "    </tr>\n",
       "  </thead>\n",
       "  <tbody>\n",
       "    <tr>\n",
       "      <th>0</th>\n",
       "      <td>229447342</td>\n",
       "      <td>2017-10-01 08:44:50</td>\n",
       "      <td>0</td>\n",
       "      <td>2017-10-01 09:00:21</td>\n",
       "    </tr>\n",
       "    <tr>\n",
       "      <th>1</th>\n",
       "      <td>229448041</td>\n",
       "      <td>2017-10-01 09:22:55</td>\n",
       "      <td>0</td>\n",
       "      <td>2017-10-01 09:28:39</td>\n",
       "    </tr>\n",
       "    <tr>\n",
       "      <th>2</th>\n",
       "      <td>229448148</td>\n",
       "      <td>2017-10-01 09:30:10</td>\n",
       "      <td>0</td>\n",
       "      <td>2017-10-01 09:40:32</td>\n",
       "    </tr>\n",
       "    <tr>\n",
       "      <th>3</th>\n",
       "      <td>229448691</td>\n",
       "      <td>2017-10-01 10:02:02</td>\n",
       "      <td>0</td>\n",
       "      <td>2017-10-01 10:12:54</td>\n",
       "    </tr>\n",
       "    <tr>\n",
       "      <th>4</th>\n",
       "      <td>229448769</td>\n",
       "      <td>2017-10-01 10:06:54</td>\n",
       "      <td>0</td>\n",
       "      <td>2017-10-01 10:17:00</td>\n",
       "    </tr>\n",
       "  </tbody>\n",
       "</table>\n",
       "</div>"
      ],
      "text/plain": [
       "    apply_id           apply_time  consume_goods_type    clerk_update_time\n",
       "0  229447342  2017-10-01 08:44:50                   0  2017-10-01 09:00:21\n",
       "1  229448041  2017-10-01 09:22:55                   0  2017-10-01 09:28:39\n",
       "2  229448148  2017-10-01 09:30:10                   0  2017-10-01 09:40:32\n",
       "3  229448691  2017-10-01 10:02:02                   0  2017-10-01 10:12:54\n",
       "4  229448769  2017-10-01 10:06:54                   0  2017-10-01 10:17:00"
      ]
     },
     "execution_count": 58,
     "metadata": {},
     "output_type": "execute_result"
    }
   ],
   "source": [
    "data_applys_audits.head()"
   ]
  },
  {
   "cell_type": "code",
   "execution_count": 59,
   "metadata": {},
   "outputs": [
    {
     "data": {
      "text/plain": [
       "0    11676\n",
       "Name: consume_goods_type, dtype: int64"
      ]
     },
     "execution_count": 59,
     "metadata": {},
     "output_type": "execute_result"
    }
   ],
   "source": [
    "data_applys_audits['consume_goods_type'].value_counts()"
   ]
  },
  {
   "cell_type": "code",
   "execution_count": 60,
   "metadata": {},
   "outputs": [],
   "source": [
    "def change_time(x):\n",
    "    return pd.to_datetime(x)"
   ]
  },
  {
   "cell_type": "code",
   "execution_count": 61,
   "metadata": {},
   "outputs": [
    {
     "data": {
      "text/plain": [
       "0   00:15:31\n",
       "1   00:05:44\n",
       "2   00:10:22\n",
       "3   00:10:52\n",
       "4   00:10:06\n",
       "dtype: timedelta64[ns]"
      ]
     },
     "execution_count": 61,
     "metadata": {},
     "output_type": "execute_result"
    }
   ],
   "source": [
    "apply_time = data_applys_audits['clerk_update_time'].apply(change_time)\n",
    "update_time = data_applys_audits['apply_time'].apply(change_time)\n",
    "time_diff= apply_time - update_time\n",
    "time_diff.head()"
   ]
  },
  {
   "cell_type": "code",
   "execution_count": 62,
   "metadata": {},
   "outputs": [],
   "source": [
    "def change_seconds(x):\n",
    "    return x.total_seconds()"
   ]
  },
  {
   "cell_type": "code",
   "execution_count": 63,
   "metadata": {},
   "outputs": [
    {
     "data": {
      "text/html": [
       "<div>\n",
       "<style scoped>\n",
       "    .dataframe tbody tr th:only-of-type {\n",
       "        vertical-align: middle;\n",
       "    }\n",
       "\n",
       "    .dataframe tbody tr th {\n",
       "        vertical-align: top;\n",
       "    }\n",
       "\n",
       "    .dataframe thead th {\n",
       "        text-align: right;\n",
       "    }\n",
       "</style>\n",
       "<table border=\"1\" class=\"dataframe\">\n",
       "  <thead>\n",
       "    <tr style=\"text-align: right;\">\n",
       "      <th></th>\n",
       "      <th>apply_id</th>\n",
       "      <th>apply_time</th>\n",
       "      <th>consume_goods_type</th>\n",
       "      <th>clerk_update_time</th>\n",
       "      <th>time_diff</th>\n",
       "    </tr>\n",
       "  </thead>\n",
       "  <tbody>\n",
       "    <tr>\n",
       "      <th>0</th>\n",
       "      <td>229447342</td>\n",
       "      <td>2017-10-01 08:44:50</td>\n",
       "      <td>0</td>\n",
       "      <td>2017-10-01 09:00:21</td>\n",
       "      <td>931.0</td>\n",
       "    </tr>\n",
       "    <tr>\n",
       "      <th>1</th>\n",
       "      <td>229448041</td>\n",
       "      <td>2017-10-01 09:22:55</td>\n",
       "      <td>0</td>\n",
       "      <td>2017-10-01 09:28:39</td>\n",
       "      <td>344.0</td>\n",
       "    </tr>\n",
       "    <tr>\n",
       "      <th>2</th>\n",
       "      <td>229448148</td>\n",
       "      <td>2017-10-01 09:30:10</td>\n",
       "      <td>0</td>\n",
       "      <td>2017-10-01 09:40:32</td>\n",
       "      <td>622.0</td>\n",
       "    </tr>\n",
       "    <tr>\n",
       "      <th>3</th>\n",
       "      <td>229448691</td>\n",
       "      <td>2017-10-01 10:02:02</td>\n",
       "      <td>0</td>\n",
       "      <td>2017-10-01 10:12:54</td>\n",
       "      <td>652.0</td>\n",
       "    </tr>\n",
       "    <tr>\n",
       "      <th>4</th>\n",
       "      <td>229448769</td>\n",
       "      <td>2017-10-01 10:06:54</td>\n",
       "      <td>0</td>\n",
       "      <td>2017-10-01 10:17:00</td>\n",
       "      <td>606.0</td>\n",
       "    </tr>\n",
       "  </tbody>\n",
       "</table>\n",
       "</div>"
      ],
      "text/plain": [
       "    apply_id           apply_time  consume_goods_type    clerk_update_time  \\\n",
       "0  229447342  2017-10-01 08:44:50                   0  2017-10-01 09:00:21   \n",
       "1  229448041  2017-10-01 09:22:55                   0  2017-10-01 09:28:39   \n",
       "2  229448148  2017-10-01 09:30:10                   0  2017-10-01 09:40:32   \n",
       "3  229448691  2017-10-01 10:02:02                   0  2017-10-01 10:12:54   \n",
       "4  229448769  2017-10-01 10:06:54                   0  2017-10-01 10:17:00   \n",
       "\n",
       "   time_diff  \n",
       "0      931.0  \n",
       "1      344.0  \n",
       "2      622.0  \n",
       "3      652.0  \n",
       "4      606.0  "
      ]
     },
     "execution_count": 63,
     "metadata": {},
     "output_type": "execute_result"
    }
   ],
   "source": [
    "data_applys_audits['time_diff']=time_diff.apply(change_seconds)\n",
    "data_applys_audits.head(5)"
   ]
  },
  {
   "cell_type": "code",
   "execution_count": 64,
   "metadata": {},
   "outputs": [
    {
     "data": {
      "text/plain": [
       "(11676, 5)"
      ]
     },
     "execution_count": 64,
     "metadata": {},
     "output_type": "execute_result"
    }
   ],
   "source": [
    "data_applys_audits.shape"
   ]
  },
  {
   "cell_type": "code",
   "execution_count": 65,
   "metadata": {},
   "outputs": [
    {
     "data": {
      "image/png": "[encoded data removed]",
      "text/plain": [
       "<Figure size 432x288 with 1 Axes>"
      ]
     },
     "metadata": {
      "needs_background": "light"
     },
     "output_type": "display_data"
    }
   ],
   "source": [
    "plt.plot(data_applys_audits['time_diff']) \n",
    "plt.show()"
   ]
  },
  {
   "cell_type": "code",
   "execution_count": 66,
   "metadata": {},
   "outputs": [
    {
     "data": {
      "text/plain": [
       "count    1.167600e+04\n",
       "mean     3.038147e+03\n",
       "std      1.437477e+05\n",
       "min      5.000000e+00\n",
       "25%      1.170000e+02\n",
       "50%      4.550000e+02\n",
       "75%      6.960000e+02\n",
       "max      1.400585e+07\n",
       "Name: time_diff, dtype: float64"
      ]
     },
     "execution_count": 66,
     "metadata": {},
     "output_type": "execute_result"
    }
   ],
   "source": [
    "data_applys_audits['time_diff'].describe()"
   ]
  },
  {
   "cell_type": "code",
   "execution_count": 67,
   "metadata": {},
   "outputs": [],
   "source": [
    "## 异常值的衡量\n",
    "\n"
   ]
  },
  {
   "cell_type": "code",
   "execution_count": null,
   "metadata": {},
   "outputs": [],
   "source": []
  },
  {
   "cell_type": "code",
   "execution_count": 68,
   "metadata": {},
   "outputs": [],
   "source": [
    "## 异常数据筛查\n",
    "\n"
   ]
  },
  {
   "cell_type": "code",
   "execution_count": null,
   "metadata": {},
   "outputs": [],
   "source": []
  },
  {
   "cell_type": "markdown",
   "metadata": {},
   "source": [
    "## 不同业务的通过率、取消率、拒绝率"
   ]
  },
  {
   "cell_type": "code",
   "execution_count": 69,
   "metadata": {},
   "outputs": [
    {
     "data": {
      "text/html": [
       "<div>\n",
       "<style scoped>\n",
       "    .dataframe tbody tr th:only-of-type {\n",
       "        vertical-align: middle;\n",
       "    }\n",
       "\n",
       "    .dataframe tbody tr th {\n",
       "        vertical-align: top;\n",
       "    }\n",
       "\n",
       "    .dataframe thead th {\n",
       "        text-align: right;\n",
       "    }\n",
       "</style>\n",
       "<table border=\"1\" class=\"dataframe\">\n",
       "  <thead>\n",
       "    <tr style=\"text-align: right;\">\n",
       "      <th></th>\n",
       "      <th>apply_id</th>\n",
       "      <th>consume_goods_type</th>\n",
       "      <th>channel_auditor_decision</th>\n",
       "    </tr>\n",
       "  </thead>\n",
       "  <tbody>\n",
       "    <tr>\n",
       "      <th>0</th>\n",
       "      <td>229442713</td>\n",
       "      <td>3</td>\n",
       "      <td>0</td>\n",
       "    </tr>\n",
       "    <tr>\n",
       "      <th>1</th>\n",
       "      <td>229442737</td>\n",
       "      <td>3</td>\n",
       "      <td>0</td>\n",
       "    </tr>\n",
       "    <tr>\n",
       "      <th>2</th>\n",
       "      <td>229442740</td>\n",
       "      <td>3</td>\n",
       "      <td>0</td>\n",
       "    </tr>\n",
       "    <tr>\n",
       "      <th>3</th>\n",
       "      <td>229442745</td>\n",
       "      <td>3</td>\n",
       "      <td>0</td>\n",
       "    </tr>\n",
       "    <tr>\n",
       "      <th>4</th>\n",
       "      <td>229442754</td>\n",
       "      <td>3</td>\n",
       "      <td>0</td>\n",
       "    </tr>\n",
       "  </tbody>\n",
       "</table>\n",
       "</div>"
      ],
      "text/plain": [
       "    apply_id  consume_goods_type  channel_auditor_decision\n",
       "0  229442713                   3                         0\n",
       "1  229442737                   3                         0\n",
       "2  229442740                   3                         0\n",
       "3  229442745                   3                         0\n",
       "4  229442754                   3                         0"
      ]
     },
     "execution_count": 69,
     "metadata": {},
     "output_type": "execute_result"
    }
   ],
   "source": [
    "data_channel=pd.merge(data_applys_org[['apply_id','consume_goods_type']],\n",
    "                      data_audits_org[['apply_id','channel_auditor_decision']],on='apply_id',how='inner')\n",
    "data_channel.head(5)"
   ]
  },
  {
   "cell_type": "code",
   "execution_count": 70,
   "metadata": {},
   "outputs": [
    {
     "data": {
      "text/plain": [
       "consume_goods_type  channel_auditor_decision\n",
       "0                   0                           122931\n",
       "                    1                              210\n",
       "                    2                             1124\n",
       "                    3                            10870\n",
       "1                   0                            78010\n",
       "3                   0                           141084\n",
       "4                   0                             1014\n",
       "dtype: int64"
      ]
     },
     "execution_count": 70,
     "metadata": {},
     "output_type": "execute_result"
    }
   ],
   "source": [
    "# 0 默认状态、1 通过、2 拒绝、3 取消、4 驳回\n",
    "data_channel.groupby(['consume_goods_type', 'channel_auditor_decision']).size()"
   ]
  },
  {
   "cell_type": "code",
   "execution_count": 71,
   "metadata": {},
   "outputs": [
    {
     "data": {
      "text/plain": [
       "3    10870\n",
       "2     1124\n",
       "1      210\n",
       "Name: channel_auditor_decision, dtype: int64"
      ]
     },
     "execution_count": 71,
     "metadata": {},
     "output_type": "execute_result"
    }
   ],
   "source": [
    "# 消费贷取消比例\n",
    "data_channel_0 = data_channel[(data_channel['consume_goods_type'] == 0) & (data_channel['channel_auditor_decision'] != 0)]\n",
    "data_percent_channel = data_channel_0['channel_auditor_decision'].value_counts()\n",
    "data_percent_channel"
   ]
  },
  {
   "cell_type": "code",
   "execution_count": 92,
   "metadata": {},
   "outputs": [
    {
     "data": {
      "image/png": "[encoded data removed]",
      "text/plain": [
       "<Figure size 432x288 with 1 Axes>"
      ]
     },
     "metadata": {},
     "output_type": "display_data"
    }
   ],
   "source": [
    "plt.figsize = (10, 10)\n",
    "explode = (0, 0.2, 0)\n",
    "plt.pie(data_percent_channel, explode=explode, labels=['取消', '拒绝', '通过'], \n",
    "        autopct='%1.2f%%', shadow=False, startangle = 0)\n",
    "\n",
    "plt.legend(loc='String or Number', bbox_to_anchor=(0.9, 0.9))\n",
    "plt.title('不同状态所占比例', fontsize=12)\n",
    "plt.tight_layout(0)\n",
    "\n",
    "plt.savefig('./test6.jpg')\n",
    "plt.show()"
   ]
  },
  {
   "cell_type": "markdown",
   "metadata": {},
   "source": [
    "# 贷后情况分析"
   ]
  },
  {
   "cell_type": "code",
   "execution_count": 73,
   "metadata": {},
   "outputs": [
    {
     "data": {
      "text/html": [
       "<div>\n",
       "<style scoped>\n",
       "    .dataframe tbody tr th:only-of-type {\n",
       "        vertical-align: middle;\n",
       "    }\n",
       "\n",
       "    .dataframe tbody tr th {\n",
       "        vertical-align: top;\n",
       "    }\n",
       "\n",
       "    .dataframe thead th {\n",
       "        text-align: right;\n",
       "    }\n",
       "</style>\n",
       "<table border=\"1\" class=\"dataframe\">\n",
       "  <thead>\n",
       "    <tr style=\"text-align: right;\">\n",
       "      <th></th>\n",
       "      <th>order_id</th>\n",
       "      <th>repayment</th>\n",
       "      <th>stage</th>\n",
       "      <th>STATUS</th>\n",
       "      <th>IS_OVERDUE</th>\n",
       "      <th>OVER_DAY</th>\n",
       "      <th>REPAYMENT_TIME</th>\n",
       "      <th>PAYMENT_DATE</th>\n",
       "      <th>CREATE_TIME</th>\n",
       "    </tr>\n",
       "  </thead>\n",
       "  <tbody>\n",
       "    <tr>\n",
       "      <th>0</th>\n",
       "      <td>28347580</td>\n",
       "      <td>1-1</td>\n",
       "      <td>1600.0</td>\n",
       "      <td>2</td>\n",
       "      <td>1</td>\n",
       "      <td>164.0</td>\n",
       "      <td>2017-11-09 00:00:00</td>\n",
       "      <td>NaN</td>\n",
       "      <td>2017-11-11 23:12:06</td>\n",
       "    </tr>\n",
       "    <tr>\n",
       "      <th>1</th>\n",
       "      <td>28347581</td>\n",
       "      <td>1-1</td>\n",
       "      <td>1000.0</td>\n",
       "      <td>2</td>\n",
       "      <td>1</td>\n",
       "      <td>177.0</td>\n",
       "      <td>2017-10-27 00:00:00</td>\n",
       "      <td>NaN</td>\n",
       "      <td>2017-11-11 23:12:06</td>\n",
       "    </tr>\n",
       "    <tr>\n",
       "      <th>2</th>\n",
       "      <td>28347582</td>\n",
       "      <td>1-1</td>\n",
       "      <td>900.0</td>\n",
       "      <td>1</td>\n",
       "      <td>1</td>\n",
       "      <td>1.0</td>\n",
       "      <td>2017-11-04 00:00:00</td>\n",
       "      <td>2017-11-05 22:37:24</td>\n",
       "      <td>2017-11-11 23:12:06</td>\n",
       "    </tr>\n",
       "    <tr>\n",
       "      <th>3</th>\n",
       "      <td>28347583</td>\n",
       "      <td>1-1</td>\n",
       "      <td>1300.0</td>\n",
       "      <td>1</td>\n",
       "      <td>1</td>\n",
       "      <td>3.0</td>\n",
       "      <td>2017-11-09 00:00:00</td>\n",
       "      <td>2017-11-12 13:12:50</td>\n",
       "      <td>2017-11-11 23:12:06</td>\n",
       "    </tr>\n",
       "    <tr>\n",
       "      <th>4</th>\n",
       "      <td>28347584</td>\n",
       "      <td>1-1</td>\n",
       "      <td>1100.0</td>\n",
       "      <td>1</td>\n",
       "      <td>1</td>\n",
       "      <td>3.0</td>\n",
       "      <td>2017-11-09 00:00:00</td>\n",
       "      <td>2017-11-12 17:28:39</td>\n",
       "      <td>2017-11-11 23:12:06</td>\n",
       "    </tr>\n",
       "  </tbody>\n",
       "</table>\n",
       "</div>"
      ],
      "text/plain": [
       "   order_id repayment   stage  STATUS  IS_OVERDUE  OVER_DAY  \\\n",
       "0  28347580       1-1  1600.0       2           1     164.0   \n",
       "1  28347581       1-1  1000.0       2           1     177.0   \n",
       "2  28347582       1-1   900.0       1           1       1.0   \n",
       "3  28347583       1-1  1300.0       1           1       3.0   \n",
       "4  28347584       1-1  1100.0       1           1       3.0   \n",
       "\n",
       "        REPAYMENT_TIME         PAYMENT_DATE          CREATE_TIME  \n",
       "0  2017-11-09 00:00:00                  NaN  2017-11-11 23:12:06  \n",
       "1  2017-10-27 00:00:00                  NaN  2017-11-11 23:12:06  \n",
       "2  2017-11-04 00:00:00  2017-11-05 22:37:24  2017-11-11 23:12:06  \n",
       "3  2017-11-09 00:00:00  2017-11-12 13:12:50  2017-11-11 23:12:06  \n",
       "4  2017-11-09 00:00:00  2017-11-12 17:28:39  2017-11-11 23:12:06  "
      ]
     },
     "execution_count": 73,
     "metadata": {},
     "output_type": "execute_result"
    }
   ],
   "source": [
    "data_order_details_org.head()"
   ]
  },
  {
   "cell_type": "code",
   "execution_count": 74,
   "metadata": {},
   "outputs": [
    {
     "data": {
      "text/html": [
       "<div>\n",
       "<style scoped>\n",
       "    .dataframe tbody tr th:only-of-type {\n",
       "        vertical-align: middle;\n",
       "    }\n",
       "\n",
       "    .dataframe tbody tr th {\n",
       "        vertical-align: top;\n",
       "    }\n",
       "\n",
       "    .dataframe thead th {\n",
       "        text-align: right;\n",
       "    }\n",
       "</style>\n",
       "<table border=\"1\" class=\"dataframe\">\n",
       "  <thead>\n",
       "    <tr style=\"text-align: right;\">\n",
       "      <th></th>\n",
       "      <th>id</th>\n",
       "      <th>apply_id</th>\n",
       "      <th>createtime</th>\n",
       "      <th>DELIVERY_STATUS</th>\n",
       "      <th>STATUS</th>\n",
       "      <th>DELIVERY</th>\n",
       "      <th>QUOTA</th>\n",
       "    </tr>\n",
       "  </thead>\n",
       "  <tbody>\n",
       "    <tr>\n",
       "      <th>0</th>\n",
       "      <td>28347580</td>\n",
       "      <td>29591144</td>\n",
       "      <td>2017-10-20 00:02:01</td>\n",
       "      <td>1</td>\n",
       "      <td>1</td>\n",
       "      <td>0</td>\n",
       "      <td>1472.0</td>\n",
       "    </tr>\n",
       "    <tr>\n",
       "      <th>1</th>\n",
       "      <td>28347581</td>\n",
       "      <td>29591147</td>\n",
       "      <td>2017-10-20 00:04:41</td>\n",
       "      <td>1</td>\n",
       "      <td>1</td>\n",
       "      <td>0</td>\n",
       "      <td>848.0</td>\n",
       "    </tr>\n",
       "    <tr>\n",
       "      <th>2</th>\n",
       "      <td>28347582</td>\n",
       "      <td>29591148</td>\n",
       "      <td>2017-10-20 00:04:43</td>\n",
       "      <td>1</td>\n",
       "      <td>5</td>\n",
       "      <td>0</td>\n",
       "      <td>720.0</td>\n",
       "    </tr>\n",
       "    <tr>\n",
       "      <th>3</th>\n",
       "      <td>28347583</td>\n",
       "      <td>29591149</td>\n",
       "      <td>2017-10-20 00:06:22</td>\n",
       "      <td>1</td>\n",
       "      <td>5</td>\n",
       "      <td>0</td>\n",
       "      <td>1170.0</td>\n",
       "    </tr>\n",
       "    <tr>\n",
       "      <th>4</th>\n",
       "      <td>28347584</td>\n",
       "      <td>29591153</td>\n",
       "      <td>2017-10-20 00:14:33</td>\n",
       "      <td>1</td>\n",
       "      <td>5</td>\n",
       "      <td>0</td>\n",
       "      <td>990.0</td>\n",
       "    </tr>\n",
       "  </tbody>\n",
       "</table>\n",
       "</div>"
      ],
      "text/plain": [
       "         id  apply_id           createtime  DELIVERY_STATUS  STATUS  DELIVERY  \\\n",
       "0  28347580  29591144  2017-10-20 00:02:01                1       1         0   \n",
       "1  28347581  29591147  2017-10-20 00:04:41                1       1         0   \n",
       "2  28347582  29591148  2017-10-20 00:04:43                1       5         0   \n",
       "3  28347583  29591149  2017-10-20 00:06:22                1       5         0   \n",
       "4  28347584  29591153  2017-10-20 00:14:33                1       5         0   \n",
       "\n",
       "    QUOTA  \n",
       "0  1472.0  \n",
       "1   848.0  \n",
       "2   720.0  \n",
       "3  1170.0  \n",
       "4   990.0  "
      ]
     },
     "execution_count": 74,
     "metadata": {},
     "output_type": "execute_result"
    }
   ],
   "source": [
    "data_orders_org.head()"
   ]
  },
  {
   "cell_type": "code",
   "execution_count": 75,
   "metadata": {},
   "outputs": [
    {
     "data": {
      "text/plain": [
       "39683"
      ]
     },
     "execution_count": 75,
     "metadata": {},
     "output_type": "execute_result"
    }
   ],
   "source": [
    "data_order_details_org[data_order_details_org['repayment']=='1-1'].shape[0]"
   ]
  },
  {
   "cell_type": "code",
   "execution_count": 76,
   "metadata": {},
   "outputs": [
    {
     "data": {
      "text/plain": [
       "92227"
      ]
     },
     "execution_count": 76,
     "metadata": {},
     "output_type": "execute_result"
    }
   ],
   "source": [
    "data_order_details_org[(data_order_details_org['STATUS']==0)|(data_order_details_org['STATUS']==2)].shape[0]"
   ]
  },
  {
   "cell_type": "code",
   "execution_count": 77,
   "metadata": {},
   "outputs": [
    {
     "data": {
      "text/html": [
       "<div>\n",
       "<style scoped>\n",
       "    .dataframe tbody tr th:only-of-type {\n",
       "        vertical-align: middle;\n",
       "    }\n",
       "\n",
       "    .dataframe tbody tr th {\n",
       "        vertical-align: top;\n",
       "    }\n",
       "\n",
       "    .dataframe thead th {\n",
       "        text-align: right;\n",
       "    }\n",
       "</style>\n",
       "<table border=\"1\" class=\"dataframe\">\n",
       "  <thead>\n",
       "    <tr style=\"text-align: right;\">\n",
       "      <th></th>\n",
       "      <th>order_id</th>\n",
       "      <th>repayment</th>\n",
       "      <th>stage</th>\n",
       "      <th>STATUS</th>\n",
       "      <th>IS_OVERDUE</th>\n",
       "      <th>OVER_DAY</th>\n",
       "      <th>REPAYMENT_TIME</th>\n",
       "      <th>PAYMENT_DATE</th>\n",
       "      <th>CREATE_TIME</th>\n",
       "    </tr>\n",
       "  </thead>\n",
       "  <tbody>\n",
       "  </tbody>\n",
       "</table>\n",
       "</div>"
      ],
      "text/plain": [
       "Empty DataFrame\n",
       "Columns: [order_id, repayment, stage, STATUS, IS_OVERDUE, OVER_DAY, REPAYMENT_TIME, PAYMENT_DATE, CREATE_TIME]\n",
       "Index: []"
      ]
     },
     "execution_count": 77,
     "metadata": {},
     "output_type": "execute_result"
    }
   ],
   "source": [
    "data_order_details_org[(data_order_details_org['STATUS']==0)&(data_order_details_org['IS_OVERDUE']==1)]"
   ]
  },
  {
   "cell_type": "code",
   "execution_count": 78,
   "metadata": {},
   "outputs": [
    {
     "data": {
      "text/plain": [
       "23553746.47"
      ]
     },
     "execution_count": 78,
     "metadata": {},
     "output_type": "execute_result"
    }
   ],
   "source": [
    "# 逾期金额\n",
    "data_order_details_org[data_order_details_org['IS_OVERDUE']==1]['stage'].sum()"
   ]
  },
  {
   "cell_type": "code",
   "execution_count": 79,
   "metadata": {},
   "outputs": [
    {
     "data": {
      "text/plain": [
       "0    168507\n",
       "1     36704\n",
       "Name: IS_OVERDUE, dtype: int64"
      ]
     },
     "execution_count": 79,
     "metadata": {},
     "output_type": "execute_result"
    }
   ],
   "source": [
    "#逾期人数\n",
    "data_order_details_org['IS_OVERDUE'].value_counts()"
   ]
  },
  {
   "cell_type": "code",
   "execution_count": 80,
   "metadata": {},
   "outputs": [
    {
     "data": {
      "text/plain": [
       "0.178859807710113"
      ]
     },
     "execution_count": 80,
     "metadata": {},
     "output_type": "execute_result"
    }
   ],
   "source": [
    "#逾期率\n",
    "total=data_order_details_org.shape[0]\n",
    "overdue=data_order_details_org[data_order_details_org['IS_OVERDUE']==1].shape[0]\n",
    "overdue/total"
   ]
  },
  {
   "cell_type": "markdown",
   "metadata": {},
   "source": [
    "# 业务趋势"
   ]
  },
  {
   "cell_type": "markdown",
   "metadata": {},
   "source": [
    "## 结合上述分析，制定下周（月）的目标"
   ]
  },
  {
   "cell_type": "markdown",
   "metadata": {},
   "source": [
    "### 单量， 放款量"
   ]
  },
  {
   "cell_type": "markdown",
   "metadata": {},
   "source": [
    "### 审核时间， 取消率"
   ]
  },
  {
   "cell_type": "markdown",
   "metadata": {},
   "source": [
    "### 逾期率"
   ]
  },
  {
   "cell_type": "code",
   "execution_count": null,
   "metadata": {},
   "outputs": [],
   "source": []
  },
  {
   "cell_type": "code",
   "execution_count": null,
   "metadata": {},
   "outputs": [],
   "source": []
  },
  {
   "cell_type": "code",
   "execution_count": null,
   "metadata": {},
   "outputs": [],
   "source": []
  }
 ],
 "metadata": {
  "kernelspec": {
   "display_name": "Python 3",
   "language": "python",
   "name": "python3"
  },
  "language_info": {
   "codemirror_mode": {
    "name": "ipython",
    "version": 3
   },
   "file_extension": ".py",
   "mimetype": "text/x-python",
   "name": "python",
   "nbconvert_exporter": "python",
   "pygments_lexer": "ipython3",
   "version": "3.7.1"
  },
  "toc": {
   "base_numbering": 1,
   "nav_menu": {},
   "number_sections": true,
   "sideBar": true,
   "skip_h1_title": false,
   "title_cell": "Table of Contents",
   "title_sidebar": "Contents",
   "toc_cell": false,
   "toc_position": {
    "height": "calc(100% - 180px)",
    "left": "10px",
    "top": "150px",
    "width": "268.99px"
   },
   "toc_section_display": true,
   "toc_window_display": true
  }
 },
 "nbformat": 4,
 "nbformat_minor": 2
}
